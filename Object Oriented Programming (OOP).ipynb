{
 "cells": [
  {
   "cell_type": "code",
   "execution_count": 1,
   "id": "9e9f6af8",
   "metadata": {},
   "outputs": [],
   "source": [
    "class TV:\n",
    "    model='Samsung'\n",
    "    size=48\n",
    "    is_on=False\n",
    "    volume=50\n",
    "    min_volume=0\n",
    "    max_volume=100\n",
    "    current_channel=None\n",
    "    min_channel=1\n",
    "    max_channel=99\n",
    "    \n",
    "    def on_off(self):\n",
    "        if self.is_on == True:\n",
    "            self.is_on=False\n",
    "        else:\n",
    "            self.is_on=True\n",
    "            self.current_channel=self.min_channel\n",
    "    \n",
    "    def change_channel(self, cc):\n",
    "        if cc>=self.min_channel and cc<=self.max_channel and self.is_on==True:\n",
    "            self.current_channel = cc\n",
    "    \n",
    "    def volume_up(self):\n",
    "        if self.volume<=self.max_volume  and self.is_on==True:\n",
    "            self.volume += 1\n",
    "    \n",
    "    def volume_down(self):\n",
    "        if self.volume>self.min_volume and self.is_on==True:\n",
    "            self.volume -= 1\n",
    "    "
   ]
  },
  {
   "cell_type": "code",
   "execution_count": 2,
   "id": "20c105ca",
   "metadata": {},
   "outputs": [],
   "source": [
    "samsung_tv = TV()"
   ]
  },
  {
   "cell_type": "code",
   "execution_count": 3,
   "id": "ef7cd82b",
   "metadata": {},
   "outputs": [],
   "source": [
    "samsung_tv.current_channel"
   ]
  },
  {
   "cell_type": "code",
   "execution_count": 4,
   "id": "976cf038",
   "metadata": {},
   "outputs": [
    {
     "data": {
      "text/plain": [
       "False"
      ]
     },
     "execution_count": 4,
     "metadata": {},
     "output_type": "execute_result"
    }
   ],
   "source": [
    "samsung_tv.is_on"
   ]
  },
  {
   "cell_type": "code",
   "execution_count": 5,
   "id": "0fc31849",
   "metadata": {},
   "outputs": [],
   "source": [
    "samsung_tv.on_off()"
   ]
  },
  {
   "cell_type": "code",
   "execution_count": 6,
   "id": "e73f7676",
   "metadata": {},
   "outputs": [
    {
     "data": {
      "text/plain": [
       "True"
      ]
     },
     "execution_count": 6,
     "metadata": {},
     "output_type": "execute_result"
    }
   ],
   "source": [
    "samsung_tv.is_on"
   ]
  },
  {
   "cell_type": "code",
   "execution_count": 7,
   "id": "72bbf5ec",
   "metadata": {},
   "outputs": [
    {
     "data": {
      "text/plain": [
       "1"
      ]
     },
     "execution_count": 7,
     "metadata": {},
     "output_type": "execute_result"
    }
   ],
   "source": [
    "samsung_tv.current_channel"
   ]
  },
  {
   "cell_type": "code",
   "execution_count": 8,
   "id": "c064060e",
   "metadata": {},
   "outputs": [
    {
     "data": {
      "text/plain": [
       "50"
      ]
     },
     "execution_count": 8,
     "metadata": {},
     "output_type": "execute_result"
    }
   ],
   "source": [
    "samsung_tv.volume"
   ]
  },
  {
   "cell_type": "code",
   "execution_count": 9,
   "id": "bd45d0e9",
   "metadata": {},
   "outputs": [
    {
     "data": {
      "text/plain": [
       "60"
      ]
     },
     "execution_count": 9,
     "metadata": {},
     "output_type": "execute_result"
    }
   ],
   "source": [
    "samsung_tv.volume_up()\n",
    "samsung_tv.volume_up()\n",
    "samsung_tv.volume_up()\n",
    "samsung_tv.volume_up()\n",
    "samsung_tv.volume_up()\n",
    "samsung_tv.volume_up()\n",
    "samsung_tv.volume_up()\n",
    "samsung_tv.volume_up()\n",
    "samsung_tv.volume_up()\n",
    "samsung_tv.volume_up()\n",
    "samsung_tv.volume"
   ]
  },
  {
   "cell_type": "code",
   "execution_count": 10,
   "id": "87188c11",
   "metadata": {},
   "outputs": [
    {
     "data": {
      "text/plain": [
       "59"
      ]
     },
     "execution_count": 10,
     "metadata": {},
     "output_type": "execute_result"
    }
   ],
   "source": [
    "samsung_tv.volume_down()\n",
    "samsung_tv.volume"
   ]
  },
  {
   "cell_type": "code",
   "execution_count": 11,
   "id": "b9c1e05e",
   "metadata": {},
   "outputs": [
    {
     "data": {
      "text/plain": [
       "1"
      ]
     },
     "execution_count": 11,
     "metadata": {},
     "output_type": "execute_result"
    }
   ],
   "source": [
    "samsung_tv.current_channel"
   ]
  },
  {
   "cell_type": "code",
   "execution_count": 12,
   "id": "d8747bd0",
   "metadata": {},
   "outputs": [],
   "source": [
    "samsung_tv.change_channel(50)"
   ]
  },
  {
   "cell_type": "code",
   "execution_count": 13,
   "id": "98fc896e",
   "metadata": {},
   "outputs": [
    {
     "data": {
      "text/plain": [
       "50"
      ]
     },
     "execution_count": 13,
     "metadata": {},
     "output_type": "execute_result"
    }
   ],
   "source": [
    "samsung_tv.current_channel"
   ]
  },
  {
   "cell_type": "code",
   "execution_count": 14,
   "id": "91174877",
   "metadata": {},
   "outputs": [],
   "source": [
    "samsung_tv.on_off()"
   ]
  },
  {
   "cell_type": "code",
   "execution_count": 15,
   "id": "0613aeea",
   "metadata": {},
   "outputs": [
    {
     "data": {
      "text/plain": [
       "False"
      ]
     },
     "execution_count": 15,
     "metadata": {},
     "output_type": "execute_result"
    }
   ],
   "source": [
    "samsung_tv.is_on"
   ]
  },
  {
   "cell_type": "code",
   "execution_count": 16,
   "id": "020168f0",
   "metadata": {},
   "outputs": [
    {
     "data": {
      "text/plain": [
       "59"
      ]
     },
     "execution_count": 16,
     "metadata": {},
     "output_type": "execute_result"
    }
   ],
   "source": [
    "samsung_tv.volume_down()\n",
    "samsung_tv.volume"
   ]
  },
  {
   "cell_type": "code",
   "execution_count": 17,
   "id": "c47cbdb8",
   "metadata": {},
   "outputs": [],
   "source": [
    "class Superman:\n",
    "    is_flying = False\n",
    "    is_fighting = False\n",
    "    is_sleeping = False\n",
    "    is_alive = True\n",
    "    health = 100\n",
    "    min_health = 0\n",
    "    max_health = 100\n",
    "    lives = 3\n",
    "    \n",
    "    def fly(self):\n",
    "        self.is_flying=True\n",
    "    \n",
    "    def land(self):\n",
    "        self.is_flying=False\n",
    "    \n",
    "    def sleep(self):\n",
    "        self.is_sleeping = True\n",
    "    \n",
    "    def wake_up(self):\n",
    "        self.is_sleeping=False\n",
    "    \n",
    "    def fight(self):\n",
    "        self.is_fighting = True\n",
    "    \n",
    "    def calm_down(self):\n",
    "        self.is_fighting = False\n",
    "    \n",
    "    def punch(self):\n",
    "        if self.is_fighting==True and self.is_sleeping==False and self.is_alive==True:\n",
    "            if self.health<5:\n",
    "                self.health=self.min_health\n",
    "            else:\n",
    "                self.health -= 5\n",
    "            if self.health==0:\n",
    "                self.is_alive=False\n",
    "                print('DIED BY PUNCHING')\n",
    "            \n",
    "    def kick(self):\n",
    "        if self.is_fighting==True and self.is_sleeping==False and self.is_alive==True:\n",
    "            if self.health<10:\n",
    "                self.health=0\n",
    "            else:\n",
    "                self.health -= 10\n",
    "            if self.health==0:\n",
    "                self.is_alive=False\n",
    "                print('DIED BY KICKING')\n",
    "    def eat_medicine(self):\n",
    "        if self.is_fighting==False and self.is_sleeping==False and self.is_alive==True:\n",
    "            if self.health<(self.max_health-25):\n",
    "                self.health += 25\n",
    "            else:\n",
    "                self.health = 100\n",
    "    \n",
    "    def cpr(self):\n",
    "        if self.is_alive==False and self.lives>0:\n",
    "            self.health += 5\n",
    "            self.is_alive = True\n",
    "            self.lives -= 1\n",
    "        else:\n",
    "            print('Doctor ny jawaab dy dia')\n",
    "            "
   ]
  },
  {
   "cell_type": "code",
   "execution_count": 18,
   "id": "ead8ba98",
   "metadata": {},
   "outputs": [],
   "source": [
    "hussain = Superman()"
   ]
  },
  {
   "cell_type": "code",
   "execution_count": 19,
   "id": "0ada0439",
   "metadata": {},
   "outputs": [
    {
     "data": {
      "text/plain": [
       "True"
      ]
     },
     "execution_count": 19,
     "metadata": {},
     "output_type": "execute_result"
    }
   ],
   "source": [
    "hussain.is_alive"
   ]
  },
  {
   "cell_type": "code",
   "execution_count": 20,
   "id": "fee9e80b",
   "metadata": {},
   "outputs": [
    {
     "data": {
      "text/plain": [
       "False"
      ]
     },
     "execution_count": 20,
     "metadata": {},
     "output_type": "execute_result"
    }
   ],
   "source": [
    "hussain.is_fighting"
   ]
  },
  {
   "cell_type": "code",
   "execution_count": 21,
   "id": "ac1414c7",
   "metadata": {},
   "outputs": [
    {
     "data": {
      "text/plain": [
       "False"
      ]
     },
     "execution_count": 21,
     "metadata": {},
     "output_type": "execute_result"
    }
   ],
   "source": [
    "hussain.is_sleeping"
   ]
  },
  {
   "cell_type": "code",
   "execution_count": 22,
   "id": "5291f27f",
   "metadata": {},
   "outputs": [],
   "source": [
    "hussain.sleep()"
   ]
  },
  {
   "cell_type": "code",
   "execution_count": 23,
   "id": "f13b8a62",
   "metadata": {},
   "outputs": [
    {
     "data": {
      "text/plain": [
       "True"
      ]
     },
     "execution_count": 23,
     "metadata": {},
     "output_type": "execute_result"
    }
   ],
   "source": [
    "hussain.is_sleeping"
   ]
  },
  {
   "cell_type": "code",
   "execution_count": 24,
   "id": "3b6976e1",
   "metadata": {},
   "outputs": [],
   "source": [
    "hussain.wake_up()"
   ]
  },
  {
   "cell_type": "code",
   "execution_count": 25,
   "id": "d9ebe5f4",
   "metadata": {},
   "outputs": [
    {
     "data": {
      "text/plain": [
       "False"
      ]
     },
     "execution_count": 25,
     "metadata": {},
     "output_type": "execute_result"
    }
   ],
   "source": [
    "hussain.is_sleeping"
   ]
  },
  {
   "cell_type": "code",
   "execution_count": 26,
   "id": "fb5df75b",
   "metadata": {},
   "outputs": [],
   "source": [
    "hussain.fly()"
   ]
  },
  {
   "cell_type": "code",
   "execution_count": 27,
   "id": "2951a998",
   "metadata": {},
   "outputs": [
    {
     "data": {
      "text/plain": [
       "True"
      ]
     },
     "execution_count": 27,
     "metadata": {},
     "output_type": "execute_result"
    }
   ],
   "source": [
    "hussain.is_flying"
   ]
  },
  {
   "cell_type": "code",
   "execution_count": 28,
   "id": "e4027ab9",
   "metadata": {},
   "outputs": [],
   "source": [
    "hussain.sleep()"
   ]
  },
  {
   "cell_type": "code",
   "execution_count": 29,
   "id": "9bf5419b",
   "metadata": {},
   "outputs": [
    {
     "data": {
      "text/plain": [
       "True"
      ]
     },
     "execution_count": 29,
     "metadata": {},
     "output_type": "execute_result"
    }
   ],
   "source": [
    "hussain.is_sleeping"
   ]
  },
  {
   "cell_type": "code",
   "execution_count": 30,
   "id": "1e65d0d2",
   "metadata": {},
   "outputs": [
    {
     "data": {
      "text/plain": [
       "True"
      ]
     },
     "execution_count": 30,
     "metadata": {},
     "output_type": "execute_result"
    }
   ],
   "source": [
    "hussain.is_flying"
   ]
  },
  {
   "cell_type": "code",
   "execution_count": 31,
   "id": "37c523b1",
   "metadata": {},
   "outputs": [],
   "source": [
    "hussain.wake_up()\n",
    "hussain.land()"
   ]
  },
  {
   "cell_type": "code",
   "execution_count": 32,
   "id": "6bd3e938",
   "metadata": {},
   "outputs": [
    {
     "data": {
      "text/plain": [
       "False"
      ]
     },
     "execution_count": 32,
     "metadata": {},
     "output_type": "execute_result"
    }
   ],
   "source": [
    "hussain.is_flying"
   ]
  },
  {
   "cell_type": "code",
   "execution_count": 33,
   "id": "2ca464d9",
   "metadata": {},
   "outputs": [
    {
     "data": {
      "text/plain": [
       "False"
      ]
     },
     "execution_count": 33,
     "metadata": {},
     "output_type": "execute_result"
    }
   ],
   "source": [
    "hussain.is_sleeping"
   ]
  },
  {
   "cell_type": "code",
   "execution_count": 34,
   "id": "1083d107",
   "metadata": {},
   "outputs": [],
   "source": [
    "hussain.fight()"
   ]
  },
  {
   "cell_type": "code",
   "execution_count": 35,
   "id": "745060e8",
   "metadata": {},
   "outputs": [
    {
     "data": {
      "text/plain": [
       "100"
      ]
     },
     "execution_count": 35,
     "metadata": {},
     "output_type": "execute_result"
    }
   ],
   "source": [
    "hussain.health"
   ]
  },
  {
   "cell_type": "code",
   "execution_count": 36,
   "id": "ea5126cd",
   "metadata": {},
   "outputs": [],
   "source": [
    "hussain.eat_medicine()"
   ]
  },
  {
   "cell_type": "code",
   "execution_count": 37,
   "id": "2c55993e",
   "metadata": {},
   "outputs": [
    {
     "data": {
      "text/plain": [
       "100"
      ]
     },
     "execution_count": 37,
     "metadata": {},
     "output_type": "execute_result"
    }
   ],
   "source": [
    "hussain.health"
   ]
  },
  {
   "cell_type": "code",
   "execution_count": 38,
   "id": "0bea11b1",
   "metadata": {},
   "outputs": [],
   "source": [
    "hussain.punch()"
   ]
  },
  {
   "cell_type": "code",
   "execution_count": 39,
   "id": "dca20606",
   "metadata": {},
   "outputs": [
    {
     "data": {
      "text/plain": [
       "95"
      ]
     },
     "execution_count": 39,
     "metadata": {},
     "output_type": "execute_result"
    }
   ],
   "source": [
    "hussain.health"
   ]
  },
  {
   "cell_type": "code",
   "execution_count": 40,
   "id": "5c075e53",
   "metadata": {},
   "outputs": [],
   "source": [
    "hussain.calm_down()"
   ]
  },
  {
   "cell_type": "code",
   "execution_count": 41,
   "id": "d1d7bf34",
   "metadata": {},
   "outputs": [],
   "source": [
    "hussain.eat_medicine()"
   ]
  },
  {
   "cell_type": "code",
   "execution_count": 42,
   "id": "5fad3e83",
   "metadata": {},
   "outputs": [
    {
     "data": {
      "text/plain": [
       "100"
      ]
     },
     "execution_count": 42,
     "metadata": {},
     "output_type": "execute_result"
    }
   ],
   "source": [
    "hussain.health"
   ]
  },
  {
   "cell_type": "code",
   "execution_count": 44,
   "id": "4e02f6f9",
   "metadata": {},
   "outputs": [
    {
     "name": "stdout",
     "output_type": "stream",
     "text": [
      "DIED BY KICKING\n"
     ]
    }
   ],
   "source": [
    "hussain.fight()\n",
    "hussain.kick()\n",
    "hussain.kick()\n",
    "hussain.kick()\n",
    "hussain.punch()\n",
    "hussain.kick()\n",
    "hussain.kick()"
   ]
  },
  {
   "cell_type": "code",
   "execution_count": 45,
   "id": "39c04f70",
   "metadata": {},
   "outputs": [
    {
     "data": {
      "text/plain": [
       "0"
      ]
     },
     "execution_count": 45,
     "metadata": {},
     "output_type": "execute_result"
    }
   ],
   "source": [
    "hussain.health"
   ]
  },
  {
   "cell_type": "code",
   "execution_count": 46,
   "id": "fe14c219",
   "metadata": {},
   "outputs": [
    {
     "data": {
      "text/plain": [
       "False"
      ]
     },
     "execution_count": 46,
     "metadata": {},
     "output_type": "execute_result"
    }
   ],
   "source": [
    "hussain.is_alive"
   ]
  },
  {
   "cell_type": "code",
   "execution_count": 48,
   "id": "b0c02147",
   "metadata": {},
   "outputs": [
    {
     "name": "stdout",
     "output_type": "stream",
     "text": [
      "Doctor ny jawaab dy dia\n"
     ]
    }
   ],
   "source": [
    "hussain.cpr()"
   ]
  },
  {
   "cell_type": "code",
   "execution_count": 49,
   "id": "cbc2a508",
   "metadata": {},
   "outputs": [
    {
     "data": {
      "text/plain": [
       "True"
      ]
     },
     "execution_count": 49,
     "metadata": {},
     "output_type": "execute_result"
    }
   ],
   "source": [
    "hussain.is_alive"
   ]
  },
  {
   "cell_type": "code",
   "execution_count": 50,
   "id": "a39db8c5",
   "metadata": {},
   "outputs": [
    {
     "data": {
      "text/plain": [
       "2"
      ]
     },
     "execution_count": 50,
     "metadata": {},
     "output_type": "execute_result"
    }
   ],
   "source": [
    "hussain.lives"
   ]
  },
  {
   "cell_type": "code",
   "execution_count": 51,
   "id": "52177e6d",
   "metadata": {},
   "outputs": [
    {
     "name": "stdout",
     "output_type": "stream",
     "text": [
      "DIED BY KICKING\n"
     ]
    }
   ],
   "source": [
    "hussain.kick()"
   ]
  },
  {
   "cell_type": "code",
   "execution_count": null,
   "id": "22f5a950",
   "metadata": {},
   "outputs": [],
   "source": []
  }
 ],
 "metadata": {
  "kernelspec": {
   "display_name": "Python 3 (ipykernel)",
   "language": "python",
   "name": "python3"
  },
  "language_info": {
   "codemirror_mode": {
    "name": "ipython",
    "version": 3
   },
   "file_extension": ".py",
   "mimetype": "text/x-python",
   "name": "python",
   "nbconvert_exporter": "python",
   "pygments_lexer": "ipython3",
   "version": "3.10.9"
  }
 },
 "nbformat": 4,
 "nbformat_minor": 5
}
