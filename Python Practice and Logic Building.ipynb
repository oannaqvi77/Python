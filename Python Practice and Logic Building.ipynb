{
 "cells": [
  {
   "cell_type": "code",
   "execution_count": 3,
   "id": "e2bf5e09",
   "metadata": {},
   "outputs": [
    {
     "name": "stdout",
     "output_type": "stream",
     "text": [
      "Hello, World!\n"
     ]
    }
   ],
   "source": [
    "print('Hello, World!')"
   ]
  },
  {
   "cell_type": "code",
   "execution_count": 4,
   "id": "d448459e",
   "metadata": {},
   "outputs": [],
   "source": [
    "a=1\n",
    "b=-1\n",
    "c=a+b"
   ]
  },
  {
   "cell_type": "code",
   "execution_count": 5,
   "id": "c7b0143c",
   "metadata": {},
   "outputs": [
    {
     "name": "stdout",
     "output_type": "stream",
     "text": [
      "0\n"
     ]
    }
   ],
   "source": [
    "print(c)"
   ]
  },
  {
   "cell_type": "code",
   "execution_count": 6,
   "id": "e6962e5b",
   "metadata": {},
   "outputs": [
    {
     "name": "stdout",
     "output_type": "stream",
     "text": [
      "Marks obtained in Maths = 58\n",
      "Marks obtained in Physics = 68\n",
      "Marks obtained in Chemistry = 67\n",
      "Your percentage is 64%\n"
     ]
    }
   ],
   "source": [
    "Maths = input(\"Marks obtained in Maths = \")\n",
    "Physics = input(\"Marks obtained in Physics = \")\n",
    "Chemistry = input(\"Marks obtained in Chemistry = \")\n",
    "Total_Marks = 300\n",
    "sum = int(Maths)+int(Physics)+int(Chemistry)\n",
    "Percentage=int((sum/Total_Marks)*100)\n",
    "print(f\"Your percentage is {Percentage}%\")"
   ]
  },
  {
   "cell_type": "code",
   "execution_count": 7,
   "id": "bf196865",
   "metadata": {},
   "outputs": [
    {
     "name": "stdout",
     "output_type": "stream",
     "text": [
      "Marks obtained in Maths = 76\n",
      "Marks obtained in Chem = 78\n",
      "Marks obtained in Physics = 45\n",
      "Marks obtained in English = 96\n",
      "Percentage = 73.75 %\n",
      "You are Fail!\n"
     ]
    }
   ],
   "source": [
    "Student_name= \"Aun\"\n",
    "#obtained marks\n",
    "maths=float(input(\"Marks obtained in Maths = \"))\n",
    "chem=float(input(\"Marks obtained in Chem = \"))\n",
    "phy=float(input(\"Marks obtained in Physics = \"))\n",
    "eng=float(input(\"Marks obtained in English = \"))\n",
    "#max marks\n",
    "maths_max= 100\n",
    "chem_max=  100\n",
    "phy_max=100\n",
    "eng_max=100\n",
    "total_obtained=maths+chem+phy+eng\n",
    "total_max=maths_max+chem_max+phy_max+eng_max\n",
    "percentage=total_obtained/total_max*100\n",
    "print(\"Percentage =\",percentage,\"%\")\n",
    "if (percentage<50 or maths<50 or chem<50 or phy<50 or eng<50):\n",
    "    print(\"You are Fail!\")\n",
    "elif(50<=percentage<60):\n",
    "    print(\"You got C Grade, Bad work!\")\n",
    "elif(60<=percentage<70):\n",
    "    print(\"You got B Grade, Average!\")\n",
    "elif(70<=percentage<80):\n",
    "    print(\"You got A Grade, Good work!\")\n",
    "else:\n",
    "    print(\"You got A-1 Grade, Excellent work!\")"
   ]
  },
  {
   "cell_type": "code",
   "execution_count": 8,
   "id": "f79c9217",
   "metadata": {},
   "outputs": [
    {
     "name": "stdout",
     "output_type": "stream",
     "text": [
      "Height in cm = 172\n",
      "Mass in Kg = 55\n",
      "Your BMI is 18.59\n",
      "You are Fit\n"
     ]
    }
   ],
   "source": [
    "height=int(input(\"Height in cm = \"))\n",
    "mass=int(input(\"Mass in Kg = \"))\n",
    "height_in_meters=height/100\n",
    "BMI=round(mass/height_in_meters**2,2)\n",
    "print(\"Your BMI is\",BMI) \n",
    "if (BMI<18.5):\n",
    "    print(\"You are Underweight\")\n",
    "elif (18.5<=BMI<24.9):\n",
    "    print(\"You are Fit\")\n",
    "else:\n",
    "    print(\"You are Overweight\")"
   ]
  },
  {
   "cell_type": "code",
   "execution_count": 9,
   "id": "851f7312",
   "metadata": {},
   "outputs": [
    {
     "data": {
      "text/plain": [
       "float"
      ]
     },
     "execution_count": 9,
     "metadata": {},
     "output_type": "execute_result"
    }
   ],
   "source": [
    "type(BMI)"
   ]
  },
  {
   "cell_type": "code",
   "execution_count": 12,
   "id": "170cb341",
   "metadata": {},
   "outputs": [
    {
     "name": "stdout",
     "output_type": "stream",
     "text": [
      "Calculator for Converting Centigrade to Fahrenheit & Kelvin\n",
      "Insert Temperature in Centigrade = 45\n",
      "The Value in Fahrenheit is 113.0 F\n",
      "The Value in Kelvin is 318.0 K\n"
     ]
    }
   ],
   "source": [
    "print('Calculator for Converting Centigrade to Fahrenheit & Kelvin')\n",
    "Centigrade=float(input('Insert Temperature in Centigrade = '))\n",
    "Fahrenheit=round((1.8*Centigrade+32),2)\n",
    "Kelvin=Centigrade+273\n",
    "print('The Value in Fahrenheit is',Fahrenheit,'F')\n",
    "print('The Value in Kelvin is',Kelvin,'K')"
   ]
  },
  {
   "cell_type": "code",
   "execution_count": 13,
   "id": "a293b315",
   "metadata": {},
   "outputs": [
    {
     "name": "stdout",
     "output_type": "stream",
     "text": [
      "Enter the value of n:5\n",
      "1. Hello\n",
      "3. Hello\n",
      "5. Hello\n"
     ]
    }
   ],
   "source": [
    "n=int(input(\"Enter the value of n:\"))\n",
    "for i in range(1,n+1,2):\n",
    "    print(str(i)+\". \"+\"Hello\")"
   ]
  },
  {
   "cell_type": "code",
   "execution_count": 14,
   "id": "1f058d11",
   "metadata": {},
   "outputs": [
    {
     "name": "stdout",
     "output_type": "stream",
     "text": [
      "1 Aun\n",
      "2 Aun\n",
      "3 Aun\n",
      "4 Aun\n",
      "5 Aun\n",
      "6 Aun\n",
      "7 Aun\n",
      "8 Aun\n",
      "9 Aun\n",
      "10 Aun\n",
      "11 Aun\n",
      "12 Aun\n",
      "13 Aun\n",
      "14 Aun\n",
      "15 Aun\n",
      "16 Aun\n",
      "17 Aun\n",
      "18 Aun\n",
      "19 Aun\n",
      "20 Aun\n"
     ]
    }
   ],
   "source": [
    "start=1\n",
    "end=20\n",
    "while(start<=end):\n",
    "    \n",
    "    print(start,\"Aun\")\n",
    "    start=int(start+1)\n",
    "    "
   ]
  },
  {
   "cell_type": "code",
   "execution_count": 18,
   "id": "0d845f20",
   "metadata": {},
   "outputs": [
    {
     "name": "stdout",
     "output_type": "stream",
     "text": [
      "Enter the value of integer7\n",
      "7\n",
      "Enter the value of integer: 6\n",
      "6\n",
      "Enter the value of integer: 7.6\n"
     ]
    },
    {
     "ename": "ValueError",
     "evalue": "invalid literal for int() with base 10: '7.6'",
     "output_type": "error",
     "traceback": [
      "\u001b[1;31m---------------------------------------------------------------------------\u001b[0m",
      "\u001b[1;31mValueError\u001b[0m                                Traceback (most recent call last)",
      "Cell \u001b[1;32mIn[18], line 4\u001b[0m\n\u001b[0;32m      2\u001b[0m \u001b[38;5;28;01mwhile\u001b[39;00m(Integer\u001b[38;5;241m>\u001b[39m\u001b[38;5;241m=\u001b[39m\u001b[38;5;241m0\u001b[39m):\n\u001b[0;32m      3\u001b[0m     \u001b[38;5;28mprint\u001b[39m(Integer)\n\u001b[1;32m----> 4\u001b[0m     Integer\u001b[38;5;241m=\u001b[39m\u001b[38;5;28;43mint\u001b[39;49m\u001b[43m(\u001b[49m\u001b[38;5;28;43minput\u001b[39;49m\u001b[43m(\u001b[49m\u001b[38;5;124;43m\"\u001b[39;49m\u001b[38;5;124;43mEnter the value of integer: \u001b[39;49m\u001b[38;5;124;43m\"\u001b[39;49m\u001b[43m)\u001b[49m\u001b[43m)\u001b[49m\n",
      "\u001b[1;31mValueError\u001b[0m: invalid literal for int() with base 10: '7.6'"
     ]
    }
   ],
   "source": [
    "Integer=int(input(\"Enter the value of integer\"))\n",
    "while(Integer>=0):\n",
    "    print(Integer)\n",
    "    Integer=int(input(\"Enter the value of integer: \"))\n"
   ]
  },
  {
   "cell_type": "markdown",
   "id": "793a5643",
   "metadata": {},
   "source": []
  },
  {
   "cell_type": "code",
   "execution_count": 21,
   "id": "080f3d0b",
   "metadata": {},
   "outputs": [
    {
     "name": "stdout",
     "output_type": "stream",
     "text": [
      "AunAunAunAunAun\n"
     ]
    }
   ],
   "source": [
    "a=\"Aun\"*5\n",
    "print(a)"
   ]
  },
  {
   "cell_type": "code",
   "execution_count": 22,
   "id": "ceecd3fa",
   "metadata": {},
   "outputs": [
    {
     "name": "stdout",
     "output_type": "stream",
     "text": [
      "Enter the Table number: 4\n",
      "Enter the range of table: 60\n",
      "4 x 1  =  4\n",
      "4 x 2  =  8\n",
      "4 x 3  =  12\n",
      "4 x 4  =  16\n",
      "4 x 5  =  20\n",
      "4 x 6  =  24\n",
      "4 x 7  =  28\n",
      "4 x 8  =  32\n",
      "4 x 9  =  36\n",
      "4 x 10  =  40\n",
      "4 x 11  =  44\n",
      "4 x 12  =  48\n",
      "4 x 13  =  52\n",
      "4 x 14  =  56\n",
      "4 x 15  =  60\n",
      "4 x 16  =  64\n",
      "4 x 17  =  68\n",
      "4 x 18  =  72\n",
      "4 x 19  =  76\n",
      "4 x 20  =  80\n",
      "4 x 21  =  84\n",
      "4 x 22  =  88\n",
      "4 x 23  =  92\n",
      "4 x 24  =  96\n",
      "4 x 25  =  100\n",
      "4 x 26  =  104\n",
      "4 x 27  =  108\n",
      "4 x 28  =  112\n",
      "4 x 29  =  116\n",
      "4 x 30  =  120\n",
      "4 x 31  =  124\n",
      "4 x 32  =  128\n",
      "4 x 33  =  132\n",
      "4 x 34  =  136\n",
      "4 x 35  =  140\n",
      "4 x 36  =  144\n",
      "4 x 37  =  148\n",
      "4 x 38  =  152\n",
      "4 x 39  =  156\n",
      "4 x 40  =  160\n",
      "4 x 41  =  164\n",
      "4 x 42  =  168\n",
      "4 x 43  =  172\n",
      "4 x 44  =  176\n",
      "4 x 45  =  180\n",
      "4 x 46  =  184\n",
      "4 x 47  =  188\n",
      "4 x 48  =  192\n",
      "4 x 49  =  196\n",
      "4 x 50  =  200\n",
      "4 x 51  =  204\n",
      "4 x 52  =  208\n",
      "4 x 53  =  212\n",
      "4 x 54  =  216\n",
      "4 x 55  =  220\n",
      "4 x 56  =  224\n",
      "4 x 57  =  228\n",
      "4 x 58  =  232\n",
      "4 x 59  =  236\n",
      "4 x 60  =  240\n"
     ]
    }
   ],
   "source": [
    "Table=int(input(\"Enter the Table number: \"))\n",
    "n=int(input(\"Enter the range of table: \"))\n",
    "\n",
    "for i in range(1,n+1):\n",
    "   print(Table,\"x\",str(i),\" = \",i*Table)"
   ]
  },
  {
   "cell_type": "code",
   "execution_count": 23,
   "id": "d9638149",
   "metadata": {},
   "outputs": [
    {
     "name": "stdout",
     "output_type": "stream",
     "text": [
      "Enter the number upto which even Sum is required: 34\n",
      "306\n"
     ]
    }
   ],
   "source": [
    "n=int(input(\"Enter the number upto which even Sum is required: \"))\n",
    "s=0\n",
    "for i in range(2,n+1):\n",
    "    if (i%2==0):\n",
    "        s=s+i\n",
    "print(s)"
   ]
  },
  {
   "cell_type": "code",
   "execution_count": 24,
   "id": "277fb7d9",
   "metadata": {},
   "outputs": [
    {
     "name": "stdout",
     "output_type": "stream",
     "text": [
      "2002\n",
      "False\n"
     ]
    }
   ],
   "source": [
    "def is_leap(year):\n",
    "    leap = True\n",
    "    \n",
    "    if (year%4==0 and year%100!=0 or year%400==0):\n",
    "        return leap\n",
    "    else:\n",
    "        return False\n",
    "year = int(input())\n",
    "print(is_leap(year))"
   ]
  },
  {
   "cell_type": "code",
   "execution_count": 25,
   "id": "5a470b0b",
   "metadata": {},
   "outputs": [
    {
     "name": "stdout",
     "output_type": "stream",
     "text": [
      "Enter the value of n :5\n",
      "n is not in the range of (2,4) exclusively\n"
     ]
    }
   ],
   "source": [
    "n=float(input(\"Enter the value of n :\"))\n",
    "if (n>2 and n<4):\n",
    "    print(\"n is in range of (2,4) exclusively\")\n",
    "else:\n",
    "    print(\"n is not in the range of (2,4) exclusively\")"
   ]
  },
  {
   "cell_type": "code",
   "execution_count": 29,
   "id": "cf409b22",
   "metadata": {},
   "outputs": [
    {
     "name": "stdout",
     "output_type": "stream",
     "text": [
      "Enter the value of n :42\n",
      "True\n"
     ]
    }
   ],
   "source": [
    "n=float(input(\"Enter the value of n :\"))\n",
    "if (n>2 or n<4):\n",
    "    print(n>2 or n<4)\n",
    "else:\n",
    "    print(\"n is not greater than 2 or less than 4 exclusively\")"
   ]
  },
  {
   "cell_type": "code",
   "execution_count": 30,
   "id": "570f99ba",
   "metadata": {},
   "outputs": [
    {
     "name": "stdout",
     "output_type": "stream",
     "text": [
      "Enter the value of n :4\n",
      "False\n"
     ]
    }
   ],
   "source": [
    "n=float(input(\"Enter the value of n :\"))\n",
    "print(not(n>2 or n<4))"
   ]
  },
  {
   "cell_type": "code",
   "execution_count": 31,
   "id": "2ca46e43",
   "metadata": {},
   "outputs": [
    {
     "name": "stdout",
     "output_type": "stream",
     "text": [
      "Enter the no. of rows: 54\n",
      "*\n",
      "**\n",
      "***\n",
      "****\n",
      "*****\n",
      "******\n",
      "*******\n",
      "********\n",
      "*********\n",
      "**********\n",
      "***********\n",
      "************\n",
      "*************\n",
      "**************\n",
      "***************\n",
      "****************\n",
      "*****************\n",
      "******************\n",
      "*******************\n",
      "********************\n",
      "*********************\n",
      "**********************\n",
      "***********************\n",
      "************************\n",
      "*************************\n",
      "**************************\n",
      "***************************\n",
      "****************************\n",
      "*****************************\n",
      "******************************\n",
      "*******************************\n",
      "********************************\n",
      "*********************************\n",
      "**********************************\n",
      "***********************************\n",
      "************************************\n",
      "*************************************\n",
      "**************************************\n",
      "***************************************\n",
      "****************************************\n",
      "*****************************************\n",
      "******************************************\n",
      "*******************************************\n",
      "********************************************\n",
      "*********************************************\n",
      "**********************************************\n",
      "***********************************************\n",
      "************************************************\n",
      "*************************************************\n",
      "**************************************************\n",
      "***************************************************\n",
      "****************************************************\n",
      "*****************************************************\n",
      "******************************************************\n",
      "*******************************************************\n",
      "******************************************************\n",
      "*****************************************************\n",
      "****************************************************\n",
      "***************************************************\n",
      "**************************************************\n",
      "*************************************************\n",
      "************************************************\n",
      "***********************************************\n",
      "**********************************************\n",
      "*********************************************\n",
      "********************************************\n",
      "*******************************************\n",
      "******************************************\n",
      "*****************************************\n",
      "****************************************\n",
      "***************************************\n",
      "**************************************\n",
      "*************************************\n",
      "************************************\n",
      "***********************************\n",
      "**********************************\n",
      "*********************************\n",
      "********************************\n",
      "*******************************\n",
      "******************************\n",
      "*****************************\n",
      "****************************\n",
      "***************************\n",
      "**************************\n",
      "*************************\n",
      "************************\n",
      "***********************\n",
      "**********************\n",
      "*********************\n",
      "********************\n",
      "*******************\n",
      "******************\n",
      "*****************\n",
      "****************\n",
      "***************\n",
      "**************\n",
      "*************\n",
      "************\n",
      "***********\n",
      "**********\n",
      "*********\n",
      "********\n",
      "*******\n",
      "******\n",
      "*****\n",
      "****\n",
      "***\n",
      "**\n",
      "*\n"
     ]
    }
   ],
   "source": [
    "n=int(input(\"Enter the no. of rows: \"))\n",
    "for i in range (1,n+1):\n",
    "    print(i*\"*\")\n",
    "for i in range (n+1,0,-1print(i*\"*\")"
   ]
  },
  {
   "cell_type": "code",
   "execution_count": 32,
   "id": "d2c490e3",
   "metadata": {},
   "outputs": [
    {
     "name": "stdout",
     "output_type": "stream",
     "text": [
      "Enter the no. of rows: 45\n",
      "**********************************************\n",
      "*********************************************\n",
      "********************************************\n",
      "*******************************************\n",
      "******************************************\n",
      "*****************************************\n",
      "****************************************\n",
      "***************************************\n",
      "**************************************\n",
      "*************************************\n",
      "************************************\n",
      "***********************************\n",
      "**********************************\n",
      "*********************************\n",
      "********************************\n",
      "*******************************\n",
      "******************************\n",
      "*****************************\n",
      "****************************\n",
      "***************************\n",
      "**************************\n",
      "*************************\n",
      "************************\n",
      "***********************\n",
      "**********************\n",
      "*********************\n",
      "********************\n",
      "*******************\n",
      "******************\n",
      "*****************\n",
      "****************\n",
      "***************\n",
      "**************\n",
      "*************\n",
      "************\n",
      "***********\n",
      "**********\n",
      "*********\n",
      "********\n",
      "*******\n",
      "******\n",
      "*****\n",
      "****\n",
      "***\n",
      "**\n",
      "*\n",
      "\n",
      "*\n",
      "**\n",
      "***\n",
      "****\n",
      "*****\n",
      "******\n",
      "*******\n",
      "********\n",
      "*********\n",
      "**********\n",
      "***********\n",
      "************\n",
      "*************\n",
      "**************\n",
      "***************\n",
      "****************\n",
      "*****************\n",
      "******************\n",
      "*******************\n",
      "********************\n",
      "*********************\n",
      "**********************\n",
      "***********************\n",
      "************************\n",
      "*************************\n",
      "**************************\n",
      "***************************\n",
      "****************************\n",
      "*****************************\n",
      "******************************\n",
      "*******************************\n",
      "********************************\n",
      "*********************************\n",
      "**********************************\n",
      "***********************************\n",
      "************************************\n",
      "*************************************\n",
      "**************************************\n",
      "***************************************\n",
      "****************************************\n",
      "*****************************************\n",
      "******************************************\n",
      "*******************************************\n",
      "********************************************\n",
      "*********************************************\n"
     ]
    }
   ],
   "source": [
    "n=int(input(\"Enter the no. of rows: \"))\n",
    "for i in range (n+1,0,-1):\n",
    "    print(i*\"*\")\n",
    "for i in range (0,n+1,1):\n",
    "    print(i*\"*\")"
   ]
  },
  {
   "cell_type": "code",
   "execution_count": 33,
   "id": "737e1f6a",
   "metadata": {},
   "outputs": [
    {
     "name": "stdout",
     "output_type": "stream",
     "text": [
      "Enter the number of rows: 32\n",
      "*\n",
      "**\n",
      "***\n",
      "****\n",
      "*****\n",
      "******\n",
      "*******\n",
      "********\n",
      "*********\n",
      "**********\n",
      "***********\n",
      "************\n",
      "*************\n",
      "**************\n",
      "***************\n",
      "****************\n",
      "*****************\n",
      "******************\n",
      "*******************\n",
      "********************\n",
      "*********************\n",
      "**********************\n",
      "***********************\n",
      "************************\n",
      "*************************\n",
      "**************************\n",
      "***************************\n",
      "****************************\n",
      "*****************************\n",
      "******************************\n",
      "*******************************\n",
      "********************************\n"
     ]
    }
   ],
   "source": [
    "i=1\n",
    "n=int(input(\"Enter the number of rows: \"))\n",
    "while (i<=n):\n",
    "    j=1\n",
    "    while (j<=i):\n",
    "        print('*',end='')\n",
    "        j=j+1\n",
    "    print()\n",
    "    i=i+1"
   ]
  },
  {
   "cell_type": "code",
   "execution_count": 34,
   "id": "8db071ee",
   "metadata": {},
   "outputs": [
    {
     "name": "stdout",
     "output_type": "stream",
     "text": [
      "Enter the number of rows: 24\n",
      "                         *\n",
      "                         *                         *\n",
      "                         *                         *                         *\n",
      "                         *                         *                         *                         *\n",
      "                         *                         *                         *                         *                         *\n",
      "                         *                         *                         *                         *                         *                         *\n",
      "                         *                         *                         *                         *                         *                         *                         *\n",
      "                         *                         *                         *                         *                         *                         *                         *                         *\n",
      "                         *                         *                         *                         *                         *                         *                         *                         *                         *\n",
      "                         *                         *                         *                         *                         *                         *                         *                         *                         *                         *\n",
      "                         *                         *                         *                         *                         *                         *                         *                         *                         *                         *                         *\n",
      "                         *                         *                         *                         *                         *                         *                         *                         *                         *                         *                         *                         *\n",
      "                         *                         *                         *                         *                         *                         *                         *                         *                         *                         *                         *                         *                         *\n",
      "                         *                         *                         *                         *                         *                         *                         *                         *                         *                         *                         *                         *                         *                         *\n",
      "                         *                         *                         *                         *                         *                         *                         *                         *                         *                         *                         *                         *                         *                         *                         *\n",
      "                         *                         *                         *                         *                         *                         *                         *                         *                         *                         *                         *                         *                         *                         *                         *                         *\n",
      "                         *                         *                         *                         *                         *                         *                         *                         *                         *                         *                         *                         *                         *                         *                         *                         *                         *\n",
      "                         *                         *                         *                         *                         *                         *                         *                         *                         *                         *                         *                         *                         *                         *                         *                         *                         *                         *\n",
      "                         *                         *                         *                         *                         *                         *                         *                         *                         *                         *                         *                         *                         *                         *                         *                         *                         *                         *                         *\n",
      "                         *                         *                         *                         *                         *                         *                         *                         *                         *                         *                         *                         *                         *                         *                         *                         *                         *                         *                         *                         *\n",
      "                         *                         *                         *                         *                         *                         *                         *                         *                         *                         *                         *                         *                         *                         *                         *                         *                         *                         *                         *                         *                         *\n",
      "                         *                         *                         *                         *                         *                         *                         *                         *                         *                         *                         *                         *                         *                         *                         *                         *                         *                         *                         *                         *                         *                         *\n",
      "                         *                         *                         *                         *                         *                         *                         *                         *                         *                         *                         *                         *                         *                         *                         *                         *                         *                         *                         *                         *                         *                         *                         *\n",
      "                         *                         *                         *                         *                         *                         *                         *                         *                         *                         *                         *                         *                         *                         *                         *                         *                         *                         *                         *                         *                         *                         *                         *                         *\n"
     ]
    }
   ],
   "source": [
    "i=1\n",
    "n=int(input(\"Enter the number of rows: \"))\n",
    "while (i<=n):\n",
    "    j=1\n",
    "    while (j<=i):\n",
    "        l=n\n",
    "        print(l*\" \",'*',end='')\n",
    "        j=j+1\n",
    "        l=l-1\n",
    "    print()\n",
    "    i=i+1"
   ]
  },
  {
   "cell_type": "code",
   "execution_count": 35,
   "id": "d0cc65a3",
   "metadata": {},
   "outputs": [
    {
     "name": "stdout",
     "output_type": "stream",
     "text": [
      " HELLO\n",
      "\t HELLO\n",
      "\t\t HELLO\n",
      "\t\t\t HELLO\n",
      "\t\t\t\t HELLO\n"
     ]
    }
   ],
   "source": [
    "# datatypes are two\n",
    "# primitive data types (includes str,bool,int,float)\n",
    "# object oriented datatype\n",
    "for i in range(5):\n",
    "    print('\\t'*i,'HELLO')"
   ]
  },
  {
   "cell_type": "markdown",
   "id": "8a8dfffb",
   "metadata": {},
   "source": [
    " "
   ]
  },
  {
   "cell_type": "code",
   "execution_count": 36,
   "id": "932f48d5",
   "metadata": {},
   "outputs": [
    {
     "name": "stdout",
     "output_type": "stream",
     "text": [
      " HELLO\n",
      "\n",
      " HELLO\n",
      "\n",
      "\n",
      " HELLO\n",
      "\n",
      "\n",
      "\n",
      " HELLO\n",
      "\n",
      "\n",
      "\n",
      "\n",
      " HELLO\n",
      " ----\n",
      "- ---\n",
      "-- --\n",
      "--- -\n",
      "---- \n"
     ]
    }
   ],
   "source": [
    "for i in range(5):\n",
    "    print('\\n'*i,'HELLO')\n",
    "pattern_lines=5\n",
    "for i in range(pattern_lines):\n",
    "    print('-'*i+' '+ (pattern_lines-(i+1))*'-')"
   ]
  },
  {
   "cell_type": "code",
   "execution_count": 37,
   "id": "68bf8db9",
   "metadata": {},
   "outputs": [
    {
     "name": "stdout",
     "output_type": "stream",
     "text": [
      "Enter an integer: 6\n",
      "The number is even\n"
     ]
    }
   ],
   "source": [
    "n=int(input(\"Enter an integer: \"))\n",
    "if (((n/2)-int(n/2))==0):\n",
    "    print('The number is even')\n",
    "else:\n",
    "    print('The number is odd')"
   ]
  },
  {
   "cell_type": "code",
   "execution_count": 38,
   "id": "46e8ba3c",
   "metadata": {},
   "outputs": [],
   "source": [
    "import winsound\n",
    "for i in range(10):\n",
    "    winsound.Beep(1000,500)\n",
    "    winsound.Beep(1500,500)"
   ]
  },
  {
   "cell_type": "code",
   "execution_count": 39,
   "id": "776cec04",
   "metadata": {},
   "outputs": [
    {
     "name": "stdout",
     "output_type": "stream",
     "text": [
      "Hello\n"
     ]
    }
   ],
   "source": [
    "def say_hello():\n",
    "    print(\"Hello\")\n",
    "    \n",
    "say_hello()"
   ]
  },
  {
   "cell_type": "code",
   "execution_count": 40,
   "id": "a1fffcbd",
   "metadata": {},
   "outputs": [
    {
     "data": {
      "text/plain": [
       "(False, True)"
      ]
     },
     "execution_count": 40,
     "metadata": {},
     "output_type": "execute_result"
    }
   ],
   "source": [
    "def is_even(n,m):\n",
    "    result=n%2==0\n",
    "    result_1=m%2==0\n",
    "    return(result,result_1)\n",
    "\n",
    "is_even(19,6)"
   ]
  },
  {
   "cell_type": "code",
   "execution_count": 43,
   "id": "be0e33c0",
   "metadata": {},
   "outputs": [],
   "source": [
    "def generate_report(name,phys,chem,math,cs):\n",
    "    per_math=str(math)+\"% out of 100%\"\n",
    "    per_phy=str(phys)+\"% out of 100%\"\n",
    "    per_chem=str(chem)+\"out of 100%\"\n",
    "    per_CS=str(cs)+\"% out of 100%\"\n",
    "    overall_per=(phys+chem+math+cs)/4\n",
    "    msg = 'Student:'+name+'\\n'+ per_math +'\\n'+ per_chem +'\\n' + per_phy +'\\n' + per_CS\n",
    "    return msg, overall_per\n",
    "\n",
    "\n",
    "def show_report(overall_per):\n",
    "    import winsound\n",
    "    if(overall_per>=50):\n",
    "        winsound.Beep(500,500)\n",
    "        print (\"passed\")\n",
    "    else:\n",
    "        winsound.Beep(2000,500)\n",
    "        print (\"fail\")"
   ]
  },
  {
   "cell_type": "code",
   "execution_count": 44,
   "id": "d88cb546",
   "metadata": {},
   "outputs": [
    {
     "name": "stdout",
     "output_type": "stream",
     "text": [
      "Student:ali\n",
      "65% out of 100%\n",
      "67out of 100%\n",
      "54% out of 100%\n",
      "87% out of 100% \n",
      " 68.25\n",
      "fail\n"
     ]
    }
   ],
   "source": [
    "m, p = generate_report(\"ali\",54,67,65,87)\n",
    "print(m,'\\n',p)\n",
    "h=show_report(34)\n",
    "\n",
    "\n"
   ]
  },
  {
   "cell_type": "code",
   "execution_count": 45,
   "id": "4a7a27e9",
   "metadata": {},
   "outputs": [],
   "source": [
    "def generate_report(name,phys,chem,math,cs):\n",
    "    per_math=str(math)+\"% out of 100%\"\n",
    "    per_phy=str(phys)+\"% out of 100%\"\n",
    "    per_chem=str(chem)+\"out of 100%\"\n",
    "    per_CS=str(cs)+\"% out of 100%\"\n",
    "    overall_per=(phys+chem+math+cs)/4\n",
    "    msg = 'Student:'+name+'\\n'+ per_math +'\\n'+ per_chem +'\\n' + per_phy +'\\n' + per_CS\n",
    "    import winsound\n",
    "\n",
    "    if(overall_per>=50):\n",
    "        winsound.Beep(500,500)\n",
    "        print (\"passed\")\n",
    "    else:\n",
    "        winsound.Beep(2000,500)\n",
    "        print (\"fail\")\n",
    "    return msg, overall_per"
   ]
  },
  {
   "cell_type": "code",
   "execution_count": 46,
   "id": "9e7dd19f",
   "metadata": {},
   "outputs": [
    {
     "name": "stdout",
     "output_type": "stream",
     "text": [
      "passed\n",
      "Student:ali\n",
      "65% out of 100%\n",
      "76out of 100%\n",
      "90% out of 100%\n",
      "87% out of 100% \n",
      " 79.5\n"
     ]
    }
   ],
   "source": [
    "m, p = generate_report(\"ali\",90,76,65,87)\n",
    "print(m,'\\n',p)"
   ]
  },
  {
   "cell_type": "code",
   "execution_count": 47,
   "id": "d45884f5",
   "metadata": {},
   "outputs": [
    {
     "name": "stdout",
     "output_type": "stream",
     "text": [
      "2 4\n",
      "4 16\n",
      "5 25\n",
      "6 36\n",
      "8 64\n"
     ]
    }
   ],
   "source": [
    "a=[2,4,5,6,8]\n",
    "for i in range(5):\n",
    "    print(a[i],end=' ')\n",
    "    print(a[i]**2)"
   ]
  },
  {
   "cell_type": "code",
   "execution_count": 48,
   "id": "681c6488",
   "metadata": {},
   "outputs": [
    {
     "name": "stdout",
     "output_type": "stream",
     "text": [
      "3\n",
      "6\n",
      "9\n",
      "11\n",
      "14\n"
     ]
    }
   ],
   "source": [
    "a=[2,4,5,6,8]\n",
    "b=[1,2,4,5,6]\n",
    "for i in range(0,len(a)):\n",
    "    print(a[i]+b[i])"
   ]
  },
  {
   "cell_type": "code",
   "execution_count": 49,
   "id": "6a98b440",
   "metadata": {},
   "outputs": [
    {
     "name": "stdout",
     "output_type": "stream",
     "text": [
      "[3, 6, 9, 11, 14]\n"
     ]
    }
   ],
   "source": [
    "a=[2,4,5,6,8]\n",
    "b=[1,2,4,5,6]\n",
    "x=[]\n",
    "for i in range(0,len(b)):\n",
    "    x.append(a[i]+b[i])\n",
    "print(x)"
   ]
  },
  {
   "cell_type": "code",
   "execution_count": 50,
   "id": "4d1084b7",
   "metadata": {},
   "outputs": [
    {
     "name": "stdout",
     "output_type": "stream",
     "text": [
      "3\n",
      "3\n",
      "3\n",
      "3\n",
      "3\n",
      "6\n",
      "6\n",
      "6\n",
      "6\n",
      "6\n",
      "9\n",
      "9\n",
      "9\n",
      "9\n",
      "9\n",
      "11\n",
      "11\n",
      "11\n",
      "11\n",
      "11\n",
      "14\n",
      "14\n",
      "14\n",
      "14\n",
      "14\n"
     ]
    }
   ],
   "source": [
    "a=[2,4,5,6,8]\n",
    "b=[1,2,4,5,6]\n",
    "for i in range(0,len(a)):\n",
    "    v=(a[i]+b[i])\n",
    "    for i in range(0,len(a)):\n",
    "        print(v)"
   ]
  },
  {
   "cell_type": "code",
   "execution_count": 51,
   "id": "e9d00104",
   "metadata": {},
   "outputs": [
    {
     "name": "stdout",
     "output_type": "stream",
     "text": [
      "9\n"
     ]
    }
   ],
   "source": [
    "y=[2,4,7,9,32,5]\n",
    "y.sort()\n",
    "print(y[-2])"
   ]
  },
  {
   "cell_type": "code",
   "execution_count": 52,
   "id": "5ccf05f4",
   "metadata": {},
   "outputs": [
    {
     "name": "stdout",
     "output_type": "stream",
     "text": [
      "[1, 4, 10, 2, 9]\n",
      "[1, 4, 10, 2, 9]\n",
      "[1, 4, 10, 2, 9]\n",
      "[1, 4, 10, 2, 9]\n",
      "[1, 4, 10, 2, 9]\n",
      "[4, 1, 10, 2, 9]\n",
      "[4, 1, 10, 2, 9]\n",
      "[4, 1, 10, 2, 9]\n",
      "[4, 1, 10, 2, 9]\n",
      "[4, 1, 10, 2, 9]\n",
      "[10, 1, 4, 2, 9]\n",
      "[10, 4, 1, 2, 9]\n",
      "[10, 4, 1, 2, 9]\n",
      "[10, 4, 1, 2, 9]\n",
      "[10, 4, 1, 2, 9]\n",
      "[10, 4, 1, 2, 9]\n",
      "[10, 4, 1, 2, 9]\n",
      "[10, 4, 2, 1, 9]\n",
      "[10, 4, 2, 1, 9]\n",
      "[10, 4, 2, 1, 9]\n",
      "[10, 4, 2, 1, 9]\n",
      "[10, 9, 2, 1, 4]\n",
      "[10, 9, 4, 1, 2]\n",
      "[10, 9, 4, 2, 1]\n",
      "[10, 9, 4, 2, 1]\n"
     ]
    }
   ],
   "source": [
    "a=[1,4,10,2,9]\n",
    "for i in range(0,len(a)):\n",
    "    j=i\n",
    "    for j in range(len(a)):\n",
    "        if (a[i]>a[j]):\n",
    "            temp=a[i]\n",
    "            a[i]=a[j]\n",
    "            a[j]=temp\n",
    "        print(a)"
   ]
  },
  {
   "cell_type": "code",
   "execution_count": 53,
   "id": "06c44309",
   "metadata": {},
   "outputs": [
    {
     "name": "stdout",
     "output_type": "stream",
     "text": [
      "[9, 2, 10, 4, 1]\n"
     ]
    }
   ],
   "source": [
    "a=[1,4,10,2,9]\n",
    "x=[]\n",
    "for i in range(len(a)):\n",
    "    x.append(a[-i-1])\n",
    "print(x)"
   ]
  },
  {
   "cell_type": "code",
   "execution_count": 54,
   "id": "5147d55d",
   "metadata": {},
   "outputs": [
    {
     "data": {
      "text/plain": [
       "120"
      ]
     },
     "execution_count": 54,
     "metadata": {},
     "output_type": "execute_result"
    }
   ],
   "source": [
    "def factorial(b):\n",
    "    a=b-1\n",
    "    while a>0:\n",
    "        b=b*a\n",
    "        a=a-1\n",
    "    return(b)\n",
    "factorial(5)"
   ]
  },
  {
   "cell_type": "code",
   "execution_count": 56,
   "id": "314dde64",
   "metadata": {},
   "outputs": [
    {
     "name": "stdout",
     "output_type": "stream",
     "text": [
      "Concrete Mix Design Quantities Calculator [Metric Units] (In Accordance with American Concrete Institute)\n",
      " For for 5 MPa Concrete, Use 1:5:10 \n",
      " For for 7.5 MPa Concrete, Use 1:4:8 \n",
      " For for 10 MPa Concrete, Use 1:3:6 \n",
      " For for 15 MPa Concrete, Use 1:2:4 \n",
      " For for 20 MPa Concrete, Use 1:1.5:3 \n",
      " For for 25 MPa Concrete, Use 1:1:2 \n",
      " For for 30 MPa Concrete, Use 1:0.75:1.5 \n",
      " For for 35 MPa Concrete, Use 1:0.5:1 \n",
      " For for 40 MPa Concrete, Use 1:0.25:0.5 \n",
      "Enter Concrete strength from above options: 20\n",
      "Enter the proportion of Fine Aggregates: 20\n",
      "Enter the proportion of Coarse Aggregates: 20\n",
      "Enter the Finess Modulus of Fine Aggregates, (Options are 2.4,2.6,2.8,3) : 2.4\n",
      "Enter the Max. Aggregates Size(mm)Options are 9.5mm,12.5mm,19mm,25mm,37.5mm,50mm,75mm,100mm: 9.5\n",
      "Enter the Water Absorption of Coarse Aggregates (Enter (-ve)value in case of free surface moisture)(%): 19\n",
      "Enter the Water Absorption of Fine Aggregates (Enter (-ve)value in case of free surface moisture)(%): 12\n",
      "Enter the Percentage of Admixture: 2\n",
      "Value of Slump\n",
      "For slump 25-50mm, Enter 1\n",
      "For slump 75-100mm, Enter 2\n",
      "For slump 150-175mm, Enter 3: 2\n",
      "Cement Weight in KG:  417.4\n",
      "Fine Aggregates Weight in KG:  618.0\n",
      "Coarse Aggregates Weight in KG:  800.0\n",
      "Admixture Volume in m3:  0.02\n",
      "Water Volume in litres:  372 1\n"
     ]
    }
   ],
   "source": [
    "print(\"Concrete Mix Design Quantities Calculator [Metric Units] (In Accordance with American Concrete Institute)\")\n",
    "print(\" For for 5 MPa Concrete, Use 1:5:10 \"+\"\\n\"+\" For for 7.5 MPa Concrete, Use 1:4:8 \"+\"\\n\"+\" For for 10 MPa Concrete, Use 1:3:6 \"+\"\\n\"+\" For for 15 MPa Concrete, Use 1:2:4 \"+\"\\n\"+\" For for 20 MPa Concrete, Use 1:1.5:3 \"+\"\\n\"+\" For for 25 MPa Concrete, Use 1:1:2 \"+\"\\n\"+\" For for 30 MPa Concrete, Use 1:0.75:1.5 \"+\"\\n\"+\" For for 35 MPa Concrete, Use 1:0.5:1 \"+\"\\n\"+\" For for 40 MPa Concrete, Use 1:0.25:0.5 \")\n",
    "Concrete_strength=float(input(\"Enter Concrete strength from above options: \"))\n",
    "f_agg=float(input(\"Enter the proportion of Fine Aggregates: \"))\n",
    "c_agg=float(input(\"Enter the proportion of Coarse Aggregates: \"))\n",
    "fm=float(input(\"Enter the Finess Modulus of Fine Aggregates, (Options are 2.4,2.6,2.8,3) : \"))\n",
    "max_agg_size=float(input(\"Enter the Max. Aggregates Size(mm)\"+\"Options are 9.5mm,12.5mm,19mm,25mm,37.5mm,50mm,75mm,100mm\"+\": \"))\n",
    "wa_c=float(input(\"Enter the Water Absorption of Coarse Aggregates (Enter (-ve)value in case of free surface moisture)(%): \"))\n",
    "wa_f=float(input(\"Enter the Water Absorption of Fine Aggregates (Enter (-ve)value in case of free surface moisture)(%): \"))\n",
    "ad_per=float(input(\"Enter the Percentage of Admixture: \"))\n",
    "slump=float(input(\"Value of Slump\"+\"\\n\"+\"For slump 25-50mm, Enter 1\"+\"\\n\"+\"For slump 75-100mm, Enter 2\"+\"\\n\"+\"For slump 150-175mm, Enter 3\"+\": \"))\n",
    "if (slump==1):\n",
    "    if(max_agg_size==9.5):\n",
    "        water=207\n",
    "        air=0.03\n",
    "    elif(max_agg_size==12.5):\n",
    "        water=199\n",
    "        air=0.025\n",
    "    elif(max_agg_size==19):\n",
    "        water=190\n",
    "        air=0.02\n",
    "    elif(max_agg_size==25):\n",
    "        water=179\n",
    "        air=0.015\n",
    "    elif(max_agg_size==37.5):\n",
    "        water=166\n",
    "        air=0.01\n",
    "    elif(max_agg_size==50):\n",
    "        water=154\n",
    "        air=0.005\n",
    "    elif(max_agg_size==75):\n",
    "        water=130\n",
    "        air=0.003\n",
    "    elif(max_agg_size==100):\n",
    "        water=113\n",
    "        air=0.002\n",
    "    else:\n",
    "        print(\"Enter a valid number from the options\")\n",
    "elif (slump==2):\n",
    "    if(max_agg_size==9.5):\n",
    "        water=288\n",
    "        air=0.03\n",
    "    elif(max_agg_size==12.5):\n",
    "        water=216\n",
    "        air=0.025\n",
    "    elif(max_agg_size==19):\n",
    "        water=205\n",
    "        air=0.02\n",
    "    elif(max_agg_size==25):\n",
    "        water=193\n",
    "        air=0.015\n",
    "    elif(max_agg_size==37.5):\n",
    "        water=181\n",
    "        air=0.01\n",
    "    elif(max_agg_size==50):\n",
    "        water=169\n",
    "        air=0.005\n",
    "    elif(max_agg_size==75):\n",
    "        water=145\n",
    "        air=0.003\n",
    "    elif(max_agg_size==100):\n",
    "        water=124\n",
    "        air=0.002\n",
    "    else:\n",
    "        print(\"Enter a valid number from the options\")\n",
    "elif (slump==3):\n",
    "    if(max_agg_size==9.5):\n",
    "        water=243\n",
    "        air=0.03\n",
    "    elif(max_agg_size==12.5):\n",
    "        water=228\n",
    "        air=0.025\n",
    "    elif(max_agg_size==19):\n",
    "        water=216\n",
    "        air=0.02\n",
    "    elif(max_agg_size==25):\n",
    "        water=202\n",
    "        air=0.015\n",
    "    elif(max_agg_size==37.5):\n",
    "        water=190\n",
    "        air=0.01\n",
    "    elif(max_agg_size==50):\n",
    "        water=178\n",
    "        air=0.005\n",
    "    elif(max_agg_size==75):\n",
    "        water=160\n",
    "        air=0.003\n",
    "    elif(max_agg_size==100):\n",
    "        water=148\n",
    "        air=0.002\n",
    "    else:\n",
    "        print(\"Enter a valid number from the options\")\n",
    "else:\n",
    "    print(\"Enter a valid value of slump from the options above\")\n",
    "water_v_per_m3=(water/1000)\n",
    "if (Concrete_strength==45):\n",
    "    wc=0.37\n",
    "elif (Concrete_strength==40):\n",
    "    wc=0.42\n",
    "elif (Concrete_strength==35):\n",
    "    wc=0.47\n",
    "elif (Concrete_strength==30):\n",
    "    wc=0.54\n",
    "elif (Concrete_strength==25):\n",
    "    wc=0.61\n",
    "elif (Concrete_strength==20):\n",
    "    wc=0.69\n",
    "elif (Concrete_strength==15 or Concrete_strength==10 or Concrete_strength==5 ):\n",
    "    wc=0.79\n",
    "else:\n",
    "    print(\"Enter a valid value from the options above\")\n",
    "cement_wt=water/wc\n",
    "cement_v=cement_wt/3150\n",
    "if (fm==2.4):\n",
    "    if(max_agg_size==9.5):\n",
    "        ca_wt=0.5\n",
    "    elif(max_agg_size==12.5):\n",
    "        ca_wt=0.59\n",
    "    elif(max_agg_size==19):\n",
    "        ca_wt=0.66\n",
    "    elif(max_agg_size==25):\n",
    "        ca_wt=0.71\n",
    "    elif(max_agg_size==37.5):\n",
    "        ca_wt=0.75\n",
    "    elif(max_agg_size==50):\n",
    "        ca_wt=0.78\n",
    "    elif(max_agg_size==75):\n",
    "        ca_wt=0.82\n",
    "    elif(max_agg_size==100):\n",
    "        ca_wt=0.84\n",
    "    else:\n",
    "        print(\"Enter a valid number\")\n",
    "if (fm==2.6):\n",
    "    if(max_agg_size==9.5):\n",
    "        ca_wt=0.48\n",
    "    elif(max_agg_size==12.5):\n",
    "        ca_wt=0.57\n",
    "    elif(max_agg_size==19):\n",
    "        ca_wt=0.64\n",
    "    elif(max_agg_size==25):\n",
    "        ca_wt=0.69\n",
    "    elif(max_agg_size==37.5):\n",
    "        ca_wt=0.73\n",
    "    elif(max_agg_size==50):\n",
    "        ca_wt=0.76\n",
    "    elif(max_agg_size==75):\n",
    "        ca_wt=0.8\n",
    "    elif(max_agg_size==100):\n",
    "        ca_wt=0.82\n",
    "    else:\n",
    "        print(\"Enter a valid number\")\n",
    "if (fm==2.8):\n",
    "    if(max_agg_size==9.5):\n",
    "        ca_wt=0.46\n",
    "    elif(max_agg_size==12.5):\n",
    "        ca_wt=0.55\n",
    "    elif(max_agg_size==19):\n",
    "        ca_wt=0.62\n",
    "    elif(max_agg_size==25):\n",
    "        ca_wt=0.67\n",
    "    elif(max_agg_size==37.5):\n",
    "        ca_wt=0.71\n",
    "    elif(max_agg_size==50):\n",
    "        ca_wt=0.74\n",
    "    elif(max_agg_size==75):\n",
    "        ca_wt=0.78\n",
    "    elif(max_agg_size==100):\n",
    "        ca_wt=0.8\n",
    "    else:\n",
    "        print(\"Enter a valid number\")\n",
    "if (fm==3):\n",
    "    if(max_agg_size==9.5):\n",
    "        ca_wt=0.44\n",
    "    elif(max_agg_size==12.5):\n",
    "        ca_wt=0.53\n",
    "    elif(max_agg_size==19):\n",
    "        ca_wt=0.6\n",
    "    elif(max_agg_size==25):\n",
    "        ca_wt=0.65\n",
    "    elif(max_agg_size==37.5):\n",
    "        ca_wt=0.69\n",
    "    elif(max_agg_size==50):\n",
    "        ca_wt=0.72\n",
    "    elif(max_agg_size==75):\n",
    "        ca_wt=0.76\n",
    "    elif(max_agg_size==100):\n",
    "        ca_wt=0.78\n",
    "    else:\n",
    "        print(\"Enter a valid number\")\n",
    "ca_wt_kg=ca_wt*1600\n",
    "ca_v=ca_wt_kg/2700\n",
    "admixture=ad_per/100\n",
    "fine_aggregate=(1-(water_v_per_m3+ca_v+air+admixture+cement_v))\n",
    "fine_wt=fine_aggregate*2650\n",
    "water_ab=ca_v*wa_c/100+fine_aggregate*wa_f/100\n",
    "\n",
    "\n",
    "print(\"Cement Weight in KG: \",round(cement_wt,1))\n",
    "print(\"Fine Aggregates Weight in KG: \",round(fine_wt,1))\n",
    "print(\"Coarse Aggregates Weight in KG: \",round(ca_wt_kg,1))\n",
    "print(\"Admixture Volume in m3: \",admixture)\n",
    "print(\"Water Volume in litres: \",round((water/1000+water_ab)*1000),1)\n",
    "import winsound \n",
    "winsound.Beep(1000,1500)"
   ]
  },
  {
   "cell_type": "markdown",
   "id": "851c5e12",
   "metadata": {},
   "source": [
    "\n",
    "cement=float(input('Enter the quantity of cement in KG: '))\n",
    "fine_agg=float(input('Enter the quantiy')"
   ]
  },
  {
   "cell_type": "code",
   "execution_count": 57,
   "id": "bd8f63ea",
   "metadata": {},
   "outputs": [
    {
     "name": "stdout",
     "output_type": "stream",
     "text": [
      "8642"
     ]
    }
   ],
   "source": [
    "a=\"2468\"\n",
    "for i in range(0,len(a)):\n",
    "    b=a[-i-1]\n",
    "    print(b,end=\"\")\n"
   ]
  },
  {
   "cell_type": "code",
   "execution_count": 60,
   "id": "f00afdf3",
   "metadata": {},
   "outputs": [
    {
     "ename": "KeyboardInterrupt",
     "evalue": "",
     "output_type": "error",
     "traceback": [
      "\u001b[1;31m---------------------------------------------------------------------------\u001b[0m",
      "\u001b[1;31mKeyboardInterrupt\u001b[0m                         Traceback (most recent call last)",
      "Cell \u001b[1;32mIn[60], line 3\u001b[0m\n\u001b[0;32m      1\u001b[0m a\u001b[38;5;241m=\u001b[39m\u001b[38;5;241m2468\u001b[39m\n\u001b[0;32m      2\u001b[0m b\u001b[38;5;241m=\u001b[39m\u001b[38;5;241m0\u001b[39m\n\u001b[1;32m----> 3\u001b[0m \u001b[38;5;28;01mwhile\u001b[39;00m \u001b[43ma\u001b[49m\u001b[38;5;241;43m>\u001b[39;49m\u001b[38;5;241;43m0\u001b[39;49m:\n\u001b[0;32m      4\u001b[0m     b\u001b[38;5;241m=\u001b[39ma\u001b[38;5;241m/\u001b[39m\u001b[38;5;241m10\u001b[39m\n\u001b[0;32m      5\u001b[0m     c\u001b[38;5;241m=\u001b[39mb\u001b[38;5;241m-\u001b[39m\u001b[38;5;28mint\u001b[39m(b)\n",
      "\u001b[1;31mKeyboardInterrupt\u001b[0m: "
     ]
    }
   ],
   "source": [
    "a=2468\n",
    "b=0\n",
    "while a>0:\n",
    "    b=a/10\n",
    "    c=b-int(b)\n",
    "    d=c*10\n",
    "print(d)"
   ]
  },
  {
   "cell_type": "code",
   "execution_count": 61,
   "id": "bfc4c34b",
   "metadata": {},
   "outputs": [
    {
     "name": "stdout",
     "output_type": "stream",
     "text": [
      "-10\n"
     ]
    }
   ],
   "source": [
    "#min function\n",
    "n=[5,-10,4,1.2]\n",
    "min_no=n[0]\n",
    "i=[]\n",
    "for i in n:\n",
    "    if min_no > i:\n",
    "        min_no=i\n",
    "print(min_no)"
   ]
  },
  {
   "cell_type": "code",
   "execution_count": 62,
   "id": "e0f4b2f8",
   "metadata": {},
   "outputs": [
    {
     "name": "stdout",
     "output_type": "stream",
     "text": [
      "5\n"
     ]
    }
   ],
   "source": [
    "#max function\n",
    "n=[5,-10,4,1.2]\n",
    "max_no=n[0]\n",
    "i=[]\n",
    "for i in n:\n",
    "    if max_no < i:\n",
    "        max_no=i\n",
    "print(max_no)"
   ]
  },
  {
   "cell_type": "code",
   "execution_count": 63,
   "id": "d26ec15a",
   "metadata": {},
   "outputs": [
    {
     "name": "stdout",
     "output_type": "stream",
     "text": [
      "5.0\n"
     ]
    }
   ],
   "source": [
    "#mean function\n",
    "n=(1,2,3,4,5,6,7,8,9)\n",
    "sm=0\n",
    "count=0\n",
    "i=[]\n",
    "for i in n:\n",
    "    sm=sm+i\n",
    "    count=count+1\n",
    "avg=sm/count\n",
    "print(avg)"
   ]
  },
  {
   "cell_type": "code",
   "execution_count": 64,
   "id": "1c558aa2",
   "metadata": {},
   "outputs": [
    {
     "name": "stdout",
     "output_type": "stream",
     "text": [
      "5\n"
     ]
    }
   ],
   "source": [
    "#median of odd of elements\n",
    "list=[1,2,3,4,5,6,7,8,9]\n",
    "count=0\n",
    "for i in list:\n",
    "    count=count+1\n",
    "index=int((count+1)/2)\n",
    "print(list[index-1])"
   ]
  },
  {
   "cell_type": "code",
   "execution_count": 65,
   "id": "2584ced0",
   "metadata": {},
   "outputs": [
    {
     "name": "stdout",
     "output_type": "stream",
     "text": [
      "4\n",
      "5\n"
     ]
    },
    {
     "data": {
      "text/plain": [
       "5.0"
      ]
     },
     "execution_count": 65,
     "metadata": {},
     "output_type": "execute_result"
    }
   ],
   "source": [
    "#median of even of elements\n",
    "list=[1,2,3,4,5,6,7,8]\n",
    "count=0\n",
    "for i in list:\n",
    "    count=count+1\n",
    "index1=(count)//2\n",
    "index2=(count+2)//2\n",
    "print(list[index1-1])\n",
    "print(list[index2-1])\n",
    "avg"
   ]
  },
  {
   "cell_type": "code",
   "execution_count": 66,
   "id": "7ef2413a",
   "metadata": {},
   "outputs": [
    {
     "name": "stdout",
     "output_type": "stream",
     "text": [
      "4\n",
      "5\n"
     ]
    },
    {
     "data": {
      "text/plain": [
       "4.5"
      ]
     },
     "execution_count": 66,
     "metadata": {},
     "output_type": "execute_result"
    }
   ],
   "source": [
    "n=[3,5.4,2,3,4,12, 9000000, 8000000]\n",
    "count=0\n",
    "for i in n:\n",
    "    count=count+1\n",
    "    \n",
    "index1=(count+1)//2\n",
    "index2=index1 + 1\n",
    "print(list[index1-1])\n",
    "print(list[index2-1])\n",
    "median = (list[index1-1] + list[index2-1])/2\n",
    "median"
   ]
  },
  {
   "cell_type": "code",
   "execution_count": null,
   "id": "3a61c31d",
   "metadata": {},
   "outputs": [],
   "source": [
    "n = [1, 2, 3, 4, 5, 3, 3]\n",
    "my_dict = {}\n",
    "\n",
    "# Count the occurrences of each value in the list n\n",
    "for i in n:\n",
    "    if i in my_dict:\n",
    "        my_dict[i] += 1\n",
    "    else:\n",
    "        my_dict[i] = 1\n",
    "\n",
    "# Find the maximum count\n",
    "max_count = 0\n",
    "for value in my_dict.values():\n",
    "    if value > max_count:\n",
    "        max_count = value\n",
    "\n",
    "# Initialize an empty list to store the modes\n",
    "modes = []\n",
    "\n",
    "# Find all values that have the maximum count\n",
    "for key, value in my_dict.items():\n",
    "    if value == max_count:\n",
    "        modes.append(key)\n",
    "\n",
    "# Check if there are modes\n",
    "if len(modes) == len(my_dict):\n",
    "    print(\"No mode\")\n",
    "else:\n",
    "    print(\"Modes:\", modes)"
   ]
  },
  {
   "cell_type": "code",
   "execution_count": 68,
   "id": "d5b90906",
   "metadata": {},
   "outputs": [],
   "source": [
    "def stats(n):\n",
    "    #min function\n",
    "    min_no=n[0]\n",
    "    i=[]\n",
    "    for i in n:\n",
    "        if min_no > i:\n",
    "            min_no=i\n",
    "    print('Min: ',min_no)\n",
    "    #max function\n",
    "    max_no=n[0]\n",
    "    i=[]\n",
    "    for i in n:\n",
    "        if max_no < i:\n",
    "            max_no=i\n",
    "    print('Max: ',max_no)\n",
    "    #mean function\n",
    "    sm=0\n",
    "    count=0\n",
    "    i=[]\n",
    "    for i in n:\n",
    "        sm=sm+i\n",
    "        count=count+1\n",
    "    avg=sm/count\n",
    "    print('Mean: ',avg)\n",
    "    #median of odd of elements\n",
    "    if len(n)%2!=0:\n",
    "        count=0\n",
    "        for i in n:\n",
    "            count=count+1\n",
    "        index=int((count+1)/2)\n",
    "        print('Median: ',n[index-1])\n",
    "    elif len(n)%2==0:\n",
    "    #median of even of elements\n",
    "        count=0\n",
    "        for i in n:\n",
    "            count=count+1\n",
    "        index1=(count)//2\n",
    "        index2=(count+2)//2\n",
    "        print('Median 1st: ',n[index1-1])\n",
    "        print('Median 2nd: ',n[index2-1])\n",
    "    \n",
    "    #Modes\n",
    "    my_dict = {}\n",
    "\n",
    "    # Count the occurrences of each value in the list n\n",
    "    for i in n:\n",
    "        if i in my_dict:\n",
    "            my_dict[i] += 1\n",
    "        else:\n",
    "            my_dict[i] = 1\n",
    "\n",
    "    # Find the maximum count\n",
    "    max_count = 0\n",
    "    for value in my_dict.values():\n",
    "        if value > max_count:\n",
    "            max_count = value\n",
    "\n",
    "    # Initialize an empty list to store the modes\n",
    "    modes = []\n",
    "\n",
    "    # Find all values that have the maximum count\n",
    "    for key, value in my_dict.items():\n",
    "        if value == max_count:\n",
    "            modes.append(key)\n",
    "\n",
    "    # Check if there are modes\n",
    "    if len(modes) == len(my_dict):\n",
    "        print(\"No mode\")\n",
    "    else:\n",
    "        print(\"Modes:\", modes)\n",
    "    #Top Number\n",
    "    print('First no: ', n[0])\n",
    "    #Last Number\n",
    "    print('Last no: ', n[-1])\n",
    "    #Second Largest Number\n",
    "    n.sort()\n",
    "    print('Second Largest no: ', n[-2])\n",
    "    #Second Smallest Number\n",
    "    print('Second Smallest no: ', n[1])\n"
   ]
  },
  {
   "cell_type": "code",
   "execution_count": 69,
   "id": "798a5a69",
   "metadata": {},
   "outputs": [],
   "source": [
    "n=[1,2,4,6.7,8,2,2.5,76,45,33]"
   ]
  },
  {
   "cell_type": "code",
   "execution_count": 70,
   "id": "922b8b33",
   "metadata": {},
   "outputs": [
    {
     "name": "stdout",
     "output_type": "stream",
     "text": [
      "Min:  1\n",
      "Max:  76\n",
      "Mean:  18.02\n",
      "Median 1st:  8\n",
      "Median 2nd:  2\n",
      "Modes: [2]\n",
      "First no:  1\n",
      "Last no:  33\n",
      "Second Largest no:  45\n",
      "Second Smallest no:  2\n"
     ]
    }
   ],
   "source": [
    "stats(n)"
   ]
  },
  {
   "cell_type": "code",
   "execution_count": 71,
   "id": "74551a89",
   "metadata": {},
   "outputs": [
    {
     "name": "stdout",
     "output_type": "stream",
     "text": [
      "enter the number20\n",
      "1\n",
      "2\n",
      "3 : Fizz\n",
      "4\n",
      "5 : Buzz\n",
      "6 : Fizz\n",
      "7\n",
      "8\n",
      "9 : Fizz\n",
      "10 : Buzz\n",
      "11\n",
      "12 : Fizz\n",
      "13\n",
      "14\n",
      "15 : FizzBuzz\n",
      "16\n",
      "17\n",
      "18 : Fizz\n",
      "19\n",
      "20 : Buzz\n",
      "21 : Fizz\n"
     ]
    }
   ],
   "source": [
    "a=int(input('enter the number'))\n",
    "for i in range(a+1):\n",
    "    n=i+1\n",
    "    if n%3==0 and n%5==0:\n",
    "        print(n,': FizzBuzz')\n",
    "    elif n%5==0:\n",
    "        print(n,': Buzz')\n",
    "    elif n%3==0:\n",
    "        print(n,': Fizz')\n",
    "    else:\n",
    "        print(n)"
   ]
  },
  {
   "cell_type": "code",
   "execution_count": 84,
   "id": "1b355a17",
   "metadata": {},
   "outputs": [
    {
     "name": "stdout",
     "output_type": "stream",
     "text": [
      "enter the number60\n",
      "1\n",
      "2\n",
      "3 : Fizz\n",
      "4\n",
      "5 : Buzz\n",
      "6 : Fizz\n",
      "7\n",
      "8\n",
      "9 : Fizz\n",
      "10 : Buzz\n",
      "11\n",
      "12 : Fizz\n",
      "13\n",
      "14\n",
      "15 : FizzBuzz\n",
      "16\n",
      "17\n",
      "18 : Fizz\n",
      "19\n",
      "20 : Buzz\n",
      "21 : Fizz\n",
      "22\n",
      "23\n",
      "24 : Fizz\n",
      "25 : Buzz\n",
      "26\n",
      "27 : Fizz\n",
      "28\n",
      "29\n",
      "30 : FizzBuzz\n",
      "31\n",
      "32\n",
      "33 : Fizz\n",
      "34\n",
      "35 : Buzz\n",
      "36 : Fizz\n",
      "37\n",
      "38\n",
      "39 : Fizz\n",
      "40 : Buzz\n",
      "41\n",
      "42 : Fizz\n",
      "43\n",
      "44\n",
      "45 : FizzBuzz\n",
      "46\n",
      "47\n",
      "48 : Fizz\n",
      "49\n",
      "50 : Buzz\n",
      "51 : Fizz\n",
      "52\n",
      "53\n",
      "54 : Fizz\n",
      "55 : Buzz\n",
      "56\n",
      "57 : Fizz\n",
      "58\n",
      "59\n",
      "60 : FizzBuzz\n",
      "61\n",
      "Count Fizz:  16\n",
      "Count Buzz:  8\n",
      "Count FizzBuzz:  4\n",
      "Sum of Fizzbuzz Numbers:  150\n"
     ]
    }
   ],
   "source": [
    "a=int(input('enter the number'))\n",
    "countbuzz=0\n",
    "countfizzbuzz=0\n",
    "countfizz=0\n",
    "sm=0\n",
    "for i in range(0,a+1):\n",
    "    n=i+1\n",
    "    \n",
    "    if n%3==0 and n%5==0:\n",
    "        print(n,': FizzBuzz')\n",
    "        \n",
    "        countfizzbuzz=countfizzbuzz+1\n",
    "        sm+=n\n",
    "    elif n%5==0:\n",
    "        print(n,': Buzz')\n",
    "        \n",
    "        countbuzz=countbuzz+1\n",
    "        \n",
    "    elif n%3==0:\n",
    "        print(n,': Fizz')\n",
    "        \n",
    "        countfizz=countfizz+1\n",
    "        \n",
    "    else:\n",
    "        print(n)\n",
    "        \n",
    "print('Count Fizz: ',countfizz)\n",
    "print('Count Buzz: ',countbuzz)\n",
    "print('Count FizzBuzz: ',countfizzbuzz)\n",
    "print('Sum of Fizzbuzz Numbers: ',sm)"
   ]
  },
  {
   "cell_type": "code",
   "execution_count": 4,
   "id": "9ad1f270",
   "metadata": {},
   "outputs": [
    {
     "name": "stdout",
     "output_type": "stream",
     "text": [
      "enter the number75\n",
      "1\n",
      "2 : Dhazz\n",
      "3 : Dhizz\n",
      "4 : Dhazz\n",
      "5 : Dhuzz\n",
      "6 : DhazzDhizz\n",
      "7\n",
      "8 : Dhazz\n",
      "9 : Dhizz\n",
      "10 : DhazzDhuzz\n",
      "11\n",
      "12 : DhazzDhizz\n",
      "13\n",
      "14 : Dhazz\n",
      "15 : Dhizz\n",
      "16 : Dhazz\n",
      "17\n",
      "18 : DhazzDhizz\n",
      "19\n",
      "20 : DhazzDhuzz\n",
      "21 : Dhizz\n",
      "22 : Dhazz\n",
      "23\n",
      "24 : DhazzDhizz\n",
      "25 : Dhuzz\n",
      "26 : Dhazz\n",
      "27 : Dhizz\n",
      "28 : Dhazz\n",
      "29\n",
      "30 : DhazzDhizzDhuzz\n",
      "31\n",
      "32 : Dhazz\n",
      "33 : Dhizz\n",
      "34 : Dhazz\n",
      "35 : Dhuzz\n",
      "36 : DhazzDhizz\n",
      "37\n",
      "38 : Dhazz\n",
      "39 : Dhizz\n",
      "40 : DhazzDhuzz\n",
      "41\n",
      "42 : DhazzDhizz\n",
      "43\n",
      "44 : Dhazz\n",
      "45 : Dhizz\n",
      "46 : Dhazz\n",
      "47\n",
      "48 : DhazzDhizz\n",
      "49\n",
      "50 : DhazzDhuzz\n",
      "51 : Dhizz\n",
      "52 : Dhazz\n",
      "53\n",
      "54 : DhazzDhizz\n",
      "55 : Dhuzz\n",
      "56 : Dhazz\n",
      "57 : Dhizz\n",
      "58 : Dhazz\n",
      "59\n",
      "60 : DhazzDhizzDhuzz\n",
      "61\n",
      "62 : Dhazz\n",
      "63 : Dhizz\n",
      "64 : Dhazz\n",
      "65 : Dhuzz\n",
      "66 : DhazzDhizz\n",
      "67\n",
      "68 : Dhazz\n",
      "69 : Dhizz\n",
      "70 : DhazzDhuzz\n",
      "71\n",
      "72 : DhazzDhizz\n",
      "73\n",
      "74 : Dhazz\n",
      "75 : Dhizz\n",
      "76 : Dhazz\n",
      "Count DhazzDhizzDhuzz:  2\n",
      "Count DhazzDhuzz:  5\n",
      "Count DhazzDhizz:  10\n",
      "Count Dhazz:  21\n",
      "Count Dhizz:  13\n",
      "Count Dhuzz:  5\n",
      "Sum of DhazzDhizzDhuzz Numbers:  90\n"
     ]
    }
   ],
   "source": [
    "a=int(input('enter the number'))\n",
    "countdhizz=0\n",
    "countdhazz=0\n",
    "countdhuzz=0\n",
    "countdhazzdhizz=0\n",
    "countdhazzdhuzz=0\n",
    "countdhazzdhizzdhuzz=0\n",
    "sm=0\n",
    "for i in range(0,a+1):\n",
    "    n=i+1\n",
    "    \n",
    "    if n%2==0 and n%3==0 and n%5==0:\n",
    "        print(n,': DhazzDhizzDhuzz')\n",
    "        \n",
    "        countdhazzdhizzdhuzz=countdhazzdhizzdhuzz+1\n",
    "        sm+=n\n",
    "        \n",
    "    elif n%2==0 and n%3==0:\n",
    "        print(n,': DhazzDhizz')\n",
    "        \n",
    "        countdhazzdhizz=countdhazzdhizz+1\n",
    "        \n",
    "    elif n%2==0 and n%5==0:\n",
    "        print(n,': DhazzDhuzz')\n",
    "        \n",
    "        countdhazzdhuzz=countdhazzdhuzz+1\n",
    "        \n",
    "    elif n%2==0:\n",
    "        print(n,': Dhazz')\n",
    "        \n",
    "        countdhazz=countdhazz+1\n",
    "        \n",
    "    elif n%3==0:\n",
    "        print(n,': Dhizz')\n",
    "        \n",
    "        countdhizz=countdhizz+1\n",
    "        \n",
    "    elif n%5==0:\n",
    "        print(n,': Dhuzz')\n",
    "        countdhuzz=countdhuzz+1  \n",
    "        \n",
    "    else:\n",
    "        print(n)\n",
    "        \n",
    "print('Count DhazzDhizzDhuzz: ',countdhazzdhizzdhuzz)\n",
    "print('Count DhazzDhuzz: ',countdhazzdhuzz)\n",
    "print('Count DhazzDhizz: ',countdhazzdhizz)\n",
    "print('Count Dhazz: ',countdhazz)\n",
    "print('Count Dhizz: ',countdhizz)\n",
    "print('Count Dhuzz: ',countdhuzz)\n",
    "print('Sum of DhazzDhizzDhuzz Numbers: ',sm)"
   ]
  },
  {
   "cell_type": "code",
   "execution_count": 6,
   "id": "d0d5606e",
   "metadata": {},
   "outputs": [],
   "source": [
    "a=[1,2,5,2,6,7,3,4]"
   ]
  },
  {
   "cell_type": "code",
   "execution_count": 86,
   "id": "a9fb0fbc",
   "metadata": {},
   "outputs": [
    {
     "data": {
      "text/plain": [
       "[1, 2, 5]"
      ]
     },
     "execution_count": 86,
     "metadata": {},
     "output_type": "execute_result"
    }
   ],
   "source": [
    "a[:3]"
   ]
  },
  {
   "cell_type": "code",
   "execution_count": 87,
   "id": "74ed4dfc",
   "metadata": {},
   "outputs": [
    {
     "data": {
      "text/plain": [
       "[2, 6, 7, 3, 4]"
      ]
     },
     "execution_count": 87,
     "metadata": {},
     "output_type": "execute_result"
    }
   ],
   "source": [
    "a[3:]"
   ]
  },
  {
   "cell_type": "code",
   "execution_count": 88,
   "id": "ca31f827",
   "metadata": {},
   "outputs": [
    {
     "data": {
      "text/plain": [
       "[5, 2]"
      ]
     },
     "execution_count": 88,
     "metadata": {},
     "output_type": "execute_result"
    }
   ],
   "source": [
    "a[2:4]"
   ]
  },
  {
   "cell_type": "code",
   "execution_count": 89,
   "id": "c939189e",
   "metadata": {},
   "outputs": [
    {
     "data": {
      "text/plain": [
       "[1, 5, 6, 3]"
      ]
     },
     "execution_count": 89,
     "metadata": {},
     "output_type": "execute_result"
    }
   ],
   "source": [
    "a[::2]"
   ]
  },
  {
   "cell_type": "code",
   "execution_count": 90,
   "id": "460586a0",
   "metadata": {},
   "outputs": [
    {
     "data": {
      "text/plain": [
       "[7, 3]"
      ]
     },
     "execution_count": 90,
     "metadata": {},
     "output_type": "execute_result"
    }
   ],
   "source": [
    "a[-3:-1]"
   ]
  },
  {
   "cell_type": "code",
   "execution_count": 95,
   "id": "e662bc4c",
   "metadata": {},
   "outputs": [
    {
     "data": {
      "text/plain": [
       "[5, 6, 3]"
      ]
     },
     "execution_count": 95,
     "metadata": {},
     "output_type": "execute_result"
    }
   ],
   "source": [
    "a[-6:-1:2]"
   ]
  },
  {
   "cell_type": "code",
   "execution_count": 8,
   "id": "23cfd490",
   "metadata": {},
   "outputs": [
    {
     "data": {
      "text/plain": [
       "[4, 3, 7, 6, 2]"
      ]
     },
     "execution_count": 8,
     "metadata": {},
     "output_type": "execute_result"
    }
   ],
   "source": [
    "a[-1:-6:-1]"
   ]
  },
  {
   "cell_type": "code",
   "execution_count": 19,
   "id": "5f455822",
   "metadata": {},
   "outputs": [
    {
     "name": "stdout",
     "output_type": "stream",
     "text": [
      "rediah azar\n",
      "ivqaN naO dammahuM deyS\n"
     ]
    }
   ],
   "source": [
    "b='raza haider'\n",
    "print(b[::-1])\n",
    "c='Syed Muhammad Oan Naqvi'\n",
    "print(c[::-1])"
   ]
  },
  {
   "cell_type": "code",
   "execution_count": 18,
   "id": "54e2052b",
   "metadata": {},
   "outputs": [
    {
     "name": "stdout",
     "output_type": "stream",
     "text": [
      "r\n",
      "e\n",
      "d\n",
      "i\n",
      "a\n",
      "H\n",
      " \n",
      "a\n",
      "z\n",
      "a\n",
      "R\n"
     ]
    }
   ],
   "source": [
    "b='Raza Haider'\n",
    "for i in b[::-1]:\n",
    "    print(i)"
   ]
  },
  {
   "cell_type": "code",
   "execution_count": 40,
   "id": "6a148a1e",
   "metadata": {},
   "outputs": [
    {
     "name": "stdout",
     "output_type": "stream",
     "text": [
      "[4, 2, 5, 1, 3]\n",
      "[5, 4, 3, 2, 1]\n"
     ]
    }
   ],
   "source": [
    "#Bubble Sort\n",
    "arr=[4,2,5,1,3]\n",
    "print(arr)\n",
    "b=len(arr)\n",
    "for i in range(b-1):\n",
    "    for j in range(b-1):\n",
    "        if arr[j]<arr[j+1]:\n",
    "            arr[j],arr[j+1]=arr[j+1],arr[j]\n",
    "        else:\n",
    "            arr[j+1],arr[j]=arr[j+1],arr[j]\n",
    "print(arr)"
   ]
  },
  {
   "cell_type": "code",
   "execution_count": 33,
   "id": "91ce800c",
   "metadata": {},
   "outputs": [
    {
     "data": {
      "text/plain": [
       "97"
      ]
     },
     "execution_count": 33,
     "metadata": {},
     "output_type": "execute_result"
    }
   ],
   "source": [
    "ord('a')"
   ]
  },
  {
   "cell_type": "code",
   "execution_count": 34,
   "id": "f44b73c2",
   "metadata": {},
   "outputs": [
    {
     "data": {
      "text/plain": [
       "122"
      ]
     },
     "execution_count": 34,
     "metadata": {},
     "output_type": "execute_result"
    }
   ],
   "source": [
    "ord('z')"
   ]
  },
  {
   "cell_type": "code",
   "execution_count": 35,
   "id": "932b1a46",
   "metadata": {},
   "outputs": [
    {
     "data": {
      "text/plain": [
       "49"
      ]
     },
     "execution_count": 35,
     "metadata": {},
     "output_type": "execute_result"
    }
   ],
   "source": [
    "ord('1')"
   ]
  },
  {
   "cell_type": "code",
   "execution_count": 36,
   "id": "725ee604",
   "metadata": {},
   "outputs": [
    {
     "data": {
      "text/plain": [
       "109"
      ]
     },
     "execution_count": 36,
     "metadata": {},
     "output_type": "execute_result"
    }
   ],
   "source": [
    "ord('m')"
   ]
  },
  {
   "cell_type": "code",
   "execution_count": 41,
   "id": "622febce",
   "metadata": {},
   "outputs": [
    {
     "name": "stdout",
     "output_type": "stream",
     "text": [
      "['a', 'h', 'c', 'e']\n",
      "['a', 'c', 'e', 'h']\n"
     ]
    }
   ],
   "source": [
    "#Bubble Sort for alphabets\n",
    "arr=['a','h','c','e']\n",
    "print(arr)\n",
    "b=len(arr)\n",
    "for i in range(b-1):\n",
    "    for j in range(b-1):\n",
    "        if ord(arr[j])>ord(arr[j+1]):\n",
    "            arr[j],arr[j+1]=arr[j+1],arr[j]\n",
    "        else:\n",
    "            arr[j+1],arr[j]=arr[j+1],arr[j]\n",
    "print(arr)"
   ]
  },
  {
   "cell_type": "code",
   "execution_count": 42,
   "id": "d89e256c",
   "metadata": {},
   "outputs": [],
   "source": [
    "my_name='name'"
   ]
  },
  {
   "cell_type": "code",
   "execution_count": 43,
   "id": "c27c0fe0",
   "metadata": {},
   "outputs": [
    {
     "ename": "TypeError",
     "evalue": "'str' object does not support item assignment",
     "output_type": "error",
     "traceback": [
      "\u001b[1;31m---------------------------------------------------------------------------\u001b[0m",
      "\u001b[1;31mTypeError\u001b[0m                                 Traceback (most recent call last)",
      "Cell \u001b[1;32mIn[43], line 1\u001b[0m\n\u001b[1;32m----> 1\u001b[0m my_name[\u001b[38;5;241m1\u001b[39m]\u001b[38;5;241m=\u001b[39m\u001b[38;5;124m'\u001b[39m\u001b[38;5;124md\u001b[39m\u001b[38;5;124m'\u001b[39m\n",
      "\u001b[1;31mTypeError\u001b[0m: 'str' object does not support item assignment"
     ]
    }
   ],
   "source": [
    "my_name[1]='d'"
   ]
  },
  {
   "cell_type": "code",
   "execution_count": 44,
   "id": "28fca5b0",
   "metadata": {},
   "outputs": [],
   "source": [
    "a=(1,2,3)"
   ]
  },
  {
   "cell_type": "code",
   "execution_count": 45,
   "id": "fd471ba4",
   "metadata": {},
   "outputs": [
    {
     "ename": "TypeError",
     "evalue": "'tuple' object does not support item assignment",
     "output_type": "error",
     "traceback": [
      "\u001b[1;31m---------------------------------------------------------------------------\u001b[0m",
      "\u001b[1;31mTypeError\u001b[0m                                 Traceback (most recent call last)",
      "Cell \u001b[1;32mIn[45], line 1\u001b[0m\n\u001b[1;32m----> 1\u001b[0m a[\u001b[38;5;241m0\u001b[39m]\u001b[38;5;241m=\u001b[39m\u001b[38;5;241m4\u001b[39m\n",
      "\u001b[1;31mTypeError\u001b[0m: 'tuple' object does not support item assignment"
     ]
    }
   ],
   "source": [
    "a[0]=4"
   ]
  },
  {
   "cell_type": "code",
   "execution_count": 46,
   "id": "c411e290",
   "metadata": {},
   "outputs": [],
   "source": [
    "stack=[1,2,3,4]\n"
   ]
  },
  {
   "cell_type": "code",
   "execution_count": 47,
   "id": "f114546c",
   "metadata": {},
   "outputs": [
    {
     "data": {
      "text/plain": [
       "4"
      ]
     },
     "execution_count": 47,
     "metadata": {},
     "output_type": "execute_result"
    }
   ],
   "source": [
    "stack.pop()"
   ]
  },
  {
   "cell_type": "code",
   "execution_count": 48,
   "id": "b3f91f07",
   "metadata": {},
   "outputs": [
    {
     "data": {
      "text/plain": [
       "[1, 2, 3]"
      ]
     },
     "execution_count": 48,
     "metadata": {},
     "output_type": "execute_result"
    }
   ],
   "source": [
    "stack"
   ]
  },
  {
   "cell_type": "code",
   "execution_count": 49,
   "id": "cf8e1b61",
   "metadata": {},
   "outputs": [
    {
     "data": {
      "text/plain": [
       "3"
      ]
     },
     "execution_count": 49,
     "metadata": {},
     "output_type": "execute_result"
    }
   ],
   "source": [
    "stack.pop()"
   ]
  },
  {
   "cell_type": "code",
   "execution_count": 50,
   "id": "cb2ec1ce",
   "metadata": {},
   "outputs": [
    {
     "data": {
      "text/plain": [
       "[1, 2]"
      ]
     },
     "execution_count": 50,
     "metadata": {},
     "output_type": "execute_result"
    }
   ],
   "source": [
    "stack"
   ]
  },
  {
   "cell_type": "code",
   "execution_count": 51,
   "id": "08715fd8",
   "metadata": {},
   "outputs": [],
   "source": [
    "q=[1,2,3,4,5]"
   ]
  },
  {
   "cell_type": "code",
   "execution_count": 52,
   "id": "a4c8a787",
   "metadata": {},
   "outputs": [
    {
     "data": {
      "text/plain": [
       "1"
      ]
     },
     "execution_count": 52,
     "metadata": {},
     "output_type": "execute_result"
    }
   ],
   "source": [
    "q.pop(0)"
   ]
  },
  {
   "cell_type": "code",
   "execution_count": 53,
   "id": "1d9ad2e6",
   "metadata": {},
   "outputs": [
    {
     "data": {
      "text/plain": [
       "[2, 3, 4, 5]"
      ]
     },
     "execution_count": 53,
     "metadata": {},
     "output_type": "execute_result"
    }
   ],
   "source": [
    "q"
   ]
  },
  {
   "cell_type": "code",
   "execution_count": 54,
   "id": "25ef1409",
   "metadata": {},
   "outputs": [
    {
     "data": {
      "text/plain": [
       "2"
      ]
     },
     "execution_count": 54,
     "metadata": {},
     "output_type": "execute_result"
    }
   ],
   "source": [
    "q.pop(0)"
   ]
  },
  {
   "cell_type": "code",
   "execution_count": 55,
   "id": "9be7c91f",
   "metadata": {},
   "outputs": [
    {
     "data": {
      "text/plain": [
       "[3, 4, 5]"
      ]
     },
     "execution_count": 55,
     "metadata": {},
     "output_type": "execute_result"
    }
   ],
   "source": [
    "q"
   ]
  },
  {
   "cell_type": "code",
   "execution_count": 58,
   "id": "ef5ae9bf",
   "metadata": {},
   "outputs": [],
   "source": [
    "arr=[1,2,3,4,5]"
   ]
  },
  {
   "cell_type": "code",
   "execution_count": 65,
   "id": "ab809883",
   "metadata": {},
   "outputs": [
    {
     "name": "stdout",
     "output_type": "stream",
     "text": [
      "Not Found\n"
     ]
    }
   ],
   "source": [
    "k=3\n",
    "for i in arr:\n",
    "    if arr[i]==4:\n",
    "        print('Position',i)\n",
    "    else: \n",
    "        print('Not Found')\n",
    "    break"
   ]
  },
  {
   "cell_type": "code",
   "execution_count": 76,
   "id": "7a45f0ca",
   "metadata": {},
   "outputs": [
    {
     "name": "stdout",
     "output_type": "stream",
     "text": [
      "False\n"
     ]
    }
   ],
   "source": [
    "k=300\n",
    "match=False\n",
    "for i in arr:\n",
    "    if k==i:\n",
    "        match=True\n",
    "        break\n",
    "print(match)\n",
    "       "
   ]
  },
  {
   "cell_type": "code",
   "execution_count": 80,
   "id": "e8491e52",
   "metadata": {},
   "outputs": [
    {
     "name": "stdout",
     "output_type": "stream",
     "text": [
      "True 2 3\n"
     ]
    }
   ],
   "source": [
    "def search_strip(arr, k, s):\n",
    "    \"\"\"\n",
    "    Searches list for key in continous strips of s\n",
    "    Parameters:\n",
    "    - arr : list\n",
    "    - k : number\n",
    "    - s : int\n",
    "    Returns:\n",
    "    - boolean\n",
    "    Returns true if key is found else returns false\n",
    "    \"\"\"\n",
    "    arr_len = len(arr)\n",
    "    for i in range(arr_len - s + 1):\n",
    "        counter = 0\n",
    "        for j in range(i, i + s):\n",
    "            if arr[j] == k:\n",
    "                counter += 1\n",
    "        if counter == s:\n",
    "            return True\n",
    "    return False\n",
    "arr = [2, 2, 2, 3, 3, 3, 3, 4, 5, 5, 5]\n",
    "k = 2\n",
    "s = 3\n",
    "found = search_strip(arr, k, s)\n",
    "print(found, k, s)"
   ]
  },
  {
   "cell_type": "code",
   "execution_count": 1,
   "id": "a3104391",
   "metadata": {},
   "outputs": [
    {
     "name": "stdout",
     "output_type": "stream",
     "text": [
      "h\n",
      "a\n",
      "m\n",
      "m\n",
      "a\n",
      "d\n"
     ]
    }
   ],
   "source": [
    "a = 'hammad'\n",
    "\n",
    "for i in a:\n",
    "    print(i)"
   ]
  },
  {
   "cell_type": "code",
   "execution_count": 2,
   "id": "de0d5d20",
   "metadata": {},
   "outputs": [
    {
     "name": "stdout",
     "output_type": "stream",
     "text": [
      "dammah\n"
     ]
    }
   ],
   "source": [
    "a= [10,20,30,40]\n",
    "a = 'hammad'\n",
    "\n",
    "start=-1\n",
    "stop=-5\n",
    "step=-1\n",
    "\n",
    "print(a[::-1])"
   ]
  },
  {
   "cell_type": "code",
   "execution_count": 3,
   "id": "47dd10d6",
   "metadata": {},
   "outputs": [
    {
     "name": "stdout",
     "output_type": "stream",
     "text": [
      "Ignoring 1\n",
      "Ignoring 2\n",
      "hammad\n",
      "Ignoring 2\n",
      "ammad\n"
     ]
    }
   ],
   "source": [
    "# a = [10,20,30,40]\n",
    "a = [[1,2],['hammad',2,'ammad']]\n",
    "\n",
    "for outer_list in a:\n",
    "    for inner_list in outer_list:\n",
    "        if type(inner_list)==str:\n",
    "            print(inner_list)\n",
    "        else:\n",
    "            print('Ignoring',inner_list)"
   ]
  },
  {
   "cell_type": "code",
   "execution_count": 4,
   "id": "8af60b95",
   "metadata": {},
   "outputs": [
    {
     "name": "stdout",
     "output_type": "stream",
     "text": [
      "h\n",
      "a\n",
      "m\n",
      "m\n",
      "a\n",
      "d\n"
     ]
    }
   ],
   "source": [
    "a = 'hammad'\n",
    "\n",
    "for i in a:\n",
    "    print(i)"
   ]
  },
  {
   "cell_type": "code",
   "execution_count": null,
   "id": "d1f0fe69",
   "metadata": {},
   "outputs": [],
   "source": []
  }
 ],
 "metadata": {
  "kernelspec": {
   "display_name": "Python 3 (ipykernel)",
   "language": "python",
   "name": "python3"
  },
  "language_info": {
   "codemirror_mode": {
    "name": "ipython",
    "version": 3
   },
   "file_extension": ".py",
   "mimetype": "text/x-python",
   "name": "python",
   "nbconvert_exporter": "python",
   "pygments_lexer": "ipython3",
   "version": "3.10.9"
  }
 },
 "nbformat": 4,
 "nbformat_minor": 5
}
